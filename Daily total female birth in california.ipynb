{
 "cells": [
  {
   "cell_type": "code",
   "execution_count": 1,
   "id": "d698f49d",
   "metadata": {},
   "outputs": [],
   "source": [
    "import pandas as pd\n",
    "import matplotlib.pyplot as plt\n",
    "%matplotlib inline"
   ]
  },
  {
   "cell_type": "code",
   "execution_count": 2,
   "id": "9cd87866",
   "metadata": {},
   "outputs": [],
   "source": [
    "f_birth = pd.read_csv('daily-total-female-births-in-cal.csv',index_col=[0],parse_dates=[0])"
   ]
  },
  {
   "cell_type": "code",
   "execution_count": 3,
   "id": "5e93c170",
   "metadata": {},
   "outputs": [
    {
     "data": {
      "text/html": [
       "<div>\n",
       "<style scoped>\n",
       "    .dataframe tbody tr th:only-of-type {\n",
       "        vertical-align: middle;\n",
       "    }\n",
       "\n",
       "    .dataframe tbody tr th {\n",
       "        vertical-align: top;\n",
       "    }\n",
       "\n",
       "    .dataframe thead th {\n",
       "        text-align: right;\n",
       "    }\n",
       "</style>\n",
       "<table border=\"1\" class=\"dataframe\">\n",
       "  <thead>\n",
       "    <tr style=\"text-align: right;\">\n",
       "      <th></th>\n",
       "      <th>Daily total female births in California, 1959</th>\n",
       "    </tr>\n",
       "    <tr>\n",
       "      <th>Date</th>\n",
       "      <th></th>\n",
       "    </tr>\n",
       "  </thead>\n",
       "  <tbody>\n",
       "    <tr>\n",
       "      <th>1959-01-01</th>\n",
       "      <td>35</td>\n",
       "    </tr>\n",
       "    <tr>\n",
       "      <th>1959-01-02</th>\n",
       "      <td>32</td>\n",
       "    </tr>\n",
       "    <tr>\n",
       "      <th>1959-01-03</th>\n",
       "      <td>30</td>\n",
       "    </tr>\n",
       "    <tr>\n",
       "      <th>1959-01-04</th>\n",
       "      <td>31</td>\n",
       "    </tr>\n",
       "    <tr>\n",
       "      <th>1959-01-05</th>\n",
       "      <td>44</td>\n",
       "    </tr>\n",
       "  </tbody>\n",
       "</table>\n",
       "</div>"
      ],
      "text/plain": [
       "            Daily total female births in California, 1959\n",
       "Date                                                     \n",
       "1959-01-01                                             35\n",
       "1959-01-02                                             32\n",
       "1959-01-03                                             30\n",
       "1959-01-04                                             31\n",
       "1959-01-05                                             44"
      ]
     },
     "execution_count": 3,
     "metadata": {},
     "output_type": "execute_result"
    }
   ],
   "source": [
    "f_birth.head()"
   ]
  },
  {
   "cell_type": "code",
   "execution_count": 4,
   "id": "f222ac00",
   "metadata": {},
   "outputs": [
    {
     "data": {
      "text/plain": [
       "pandas.core.frame.DataFrame"
      ]
     },
     "execution_count": 4,
     "metadata": {},
     "output_type": "execute_result"
    }
   ],
   "source": [
    "type(f_birth)"
   ]
  },
  {
   "cell_type": "code",
   "execution_count": 5,
   "id": "0c63b080",
   "metadata": {},
   "outputs": [],
   "source": [
    "series_value = f_birth.values"
   ]
  },
  {
   "cell_type": "code",
   "execution_count": 6,
   "id": "3976c7c3",
   "metadata": {},
   "outputs": [
    {
     "data": {
      "text/plain": [
       "array([[  35],\n",
       "       [  32],\n",
       "       [  30],\n",
       "       [  31],\n",
       "       [  44],\n",
       "       [  29],\n",
       "       [  45],\n",
       "       [  43],\n",
       "       [  38],\n",
       "       [  27],\n",
       "       [  38],\n",
       "       [  33],\n",
       "       [  55],\n",
       "       [  47],\n",
       "       [  45],\n",
       "       [  37],\n",
       "       [  50],\n",
       "       [  43],\n",
       "       [  41],\n",
       "       [  52],\n",
       "       [  34],\n",
       "       [  53],\n",
       "       [  39],\n",
       "       [  32],\n",
       "       [  37],\n",
       "       [  43],\n",
       "       [  39],\n",
       "       [  35],\n",
       "       [  44],\n",
       "       [  38],\n",
       "       [  24],\n",
       "       [  23],\n",
       "       [  31],\n",
       "       [  44],\n",
       "       [  38],\n",
       "       [  50],\n",
       "       [  38],\n",
       "       [  51],\n",
       "       [  31],\n",
       "       [  31],\n",
       "       [  51],\n",
       "       [  36],\n",
       "       [  45],\n",
       "       [  51],\n",
       "       [  34],\n",
       "       [  52],\n",
       "       [  47],\n",
       "       [  45],\n",
       "       [  46],\n",
       "       [  39],\n",
       "       [  48],\n",
       "       [  37],\n",
       "       [  35],\n",
       "       [  52],\n",
       "       [  42],\n",
       "       [  45],\n",
       "       [  39],\n",
       "       [  37],\n",
       "       [  30],\n",
       "       [  35],\n",
       "       [  28],\n",
       "       [  45],\n",
       "       [  34],\n",
       "       [  36],\n",
       "       [  50],\n",
       "       [  44],\n",
       "       [  39],\n",
       "       [  32],\n",
       "       [  39],\n",
       "       [  45],\n",
       "       [  43],\n",
       "       [  39],\n",
       "       [  31],\n",
       "       [  27],\n",
       "       [  30],\n",
       "       [  42],\n",
       "       [  46],\n",
       "       [  41],\n",
       "       [  36],\n",
       "       [  45],\n",
       "       [  46],\n",
       "       [  43],\n",
       "       [  38],\n",
       "       [  34],\n",
       "       [  35],\n",
       "       [  56],\n",
       "       [  36],\n",
       "       [  32],\n",
       "       [  50],\n",
       "       [  41],\n",
       "       [  39],\n",
       "       [  41],\n",
       "       [  47],\n",
       "       [  34],\n",
       "       [  36],\n",
       "       [  33],\n",
       "       [  35],\n",
       "       [  38],\n",
       "       [  38],\n",
       "       [  34],\n",
       "       [  53],\n",
       "       [  34],\n",
       "       [  34],\n",
       "       [  38],\n",
       "       [  35],\n",
       "       [  32],\n",
       "       [  42],\n",
       "       [  34],\n",
       "       [  46],\n",
       "       [  30],\n",
       "       [  46],\n",
       "       [  45],\n",
       "       [  54],\n",
       "       [  34],\n",
       "       [  37],\n",
       "       [  35],\n",
       "       [  40],\n",
       "       [  42],\n",
       "       [  58],\n",
       "       [  51],\n",
       "       [  32],\n",
       "       [  35],\n",
       "       [  38],\n",
       "       [  33],\n",
       "       [  39],\n",
       "       [  47],\n",
       "       [  38],\n",
       "       [  52],\n",
       "       [  30],\n",
       "       [  34],\n",
       "       [  40],\n",
       "       [  35],\n",
       "       [  42],\n",
       "       [  41],\n",
       "       [  42],\n",
       "       [  38],\n",
       "       [  24],\n",
       "       [  34],\n",
       "       [  43],\n",
       "       [  36],\n",
       "       [  55],\n",
       "       [  41],\n",
       "       [  45],\n",
       "       [  41],\n",
       "       [  37],\n",
       "       [  43],\n",
       "       [  39],\n",
       "       [  33],\n",
       "       [  43],\n",
       "       [  40],\n",
       "       [  38],\n",
       "       [  45],\n",
       "       [  46],\n",
       "       [  34],\n",
       "       [  35],\n",
       "       [  48],\n",
       "       [  51],\n",
       "       [  36],\n",
       "       [  33],\n",
       "       [  46],\n",
       "       [  42],\n",
       "       [  48],\n",
       "       [  34],\n",
       "       [  41],\n",
       "       [  35],\n",
       "       [  40],\n",
       "       [  34],\n",
       "       [  30],\n",
       "       [  36],\n",
       "       [  40],\n",
       "       [  39],\n",
       "       [  45],\n",
       "       [  38],\n",
       "       [  47],\n",
       "       [  33],\n",
       "       [  30],\n",
       "       [  42],\n",
       "       [  43],\n",
       "       [  41],\n",
       "       [  41],\n",
       "       [  59],\n",
       "       [  43],\n",
       "       [  45],\n",
       "       [  38],\n",
       "       [  37],\n",
       "       [  45],\n",
       "       [  42],\n",
       "       [  57],\n",
       "       [  46],\n",
       "       [  51],\n",
       "       [  41],\n",
       "       [  47],\n",
       "       [  26],\n",
       "       [  35],\n",
       "       [  44],\n",
       "       [  41],\n",
       "       [  42],\n",
       "       [  36],\n",
       "       [  45],\n",
       "       [  45],\n",
       "       [  45],\n",
       "       [  47],\n",
       "       [  38],\n",
       "       [  42],\n",
       "       [  35],\n",
       "       [  36],\n",
       "       [  39],\n",
       "       [  45],\n",
       "       [  43],\n",
       "       [  47],\n",
       "       [  36],\n",
       "       [  41],\n",
       "       [  50],\n",
       "       [  39],\n",
       "       [  41],\n",
       "       [  46],\n",
       "       [  64],\n",
       "       [  45],\n",
       "       [  34],\n",
       "       [  38],\n",
       "       [  44],\n",
       "       [  48],\n",
       "       [  46],\n",
       "       [  44],\n",
       "       [  37],\n",
       "       [  39],\n",
       "       [  44],\n",
       "       [  45],\n",
       "       [  33],\n",
       "       [  44],\n",
       "       [  38],\n",
       "       [  46],\n",
       "       [  46],\n",
       "       [  40],\n",
       "       [  39],\n",
       "       [  44],\n",
       "       [  48],\n",
       "       [  50],\n",
       "       [  41],\n",
       "       [  42],\n",
       "       [  51],\n",
       "       [  41],\n",
       "       [  44],\n",
       "       [  38],\n",
       "       [  68],\n",
       "       [  40],\n",
       "       [  42],\n",
       "       [  51],\n",
       "       [  44],\n",
       "       [  45],\n",
       "       [  36],\n",
       "       [  57],\n",
       "       [  44],\n",
       "       [  42],\n",
       "       [  53],\n",
       "       [  42],\n",
       "       [  34],\n",
       "       [  40],\n",
       "       [  56],\n",
       "       [  44],\n",
       "       [  53],\n",
       "       [  55],\n",
       "       [  39],\n",
       "       [  59],\n",
       "       [  55],\n",
       "       [  73],\n",
       "       [  55],\n",
       "       [  44],\n",
       "       [  43],\n",
       "       [  40],\n",
       "       [  47],\n",
       "       [  51],\n",
       "       [  56],\n",
       "       [  49],\n",
       "       [  54],\n",
       "       [  56],\n",
       "       [  47],\n",
       "       [  44],\n",
       "       [  43],\n",
       "       [  42],\n",
       "       [  45],\n",
       "       [  50],\n",
       "       [  48],\n",
       "       [  43],\n",
       "       [  40],\n",
       "       [  59],\n",
       "       [  41],\n",
       "       [  42],\n",
       "       [  51],\n",
       "       [  49],\n",
       "       [  45],\n",
       "       [  43],\n",
       "       [  42],\n",
       "       [  38],\n",
       "       [  47],\n",
       "       [  38],\n",
       "       [  36],\n",
       "       [  42],\n",
       "       [  35],\n",
       "       [  28],\n",
       "       [  44],\n",
       "       [  36],\n",
       "       [  45],\n",
       "       [  46],\n",
       "       [  48],\n",
       "       [  49],\n",
       "       [  43],\n",
       "       [  42],\n",
       "       [  59],\n",
       "       [  45],\n",
       "       [  52],\n",
       "       [  46],\n",
       "       [  42],\n",
       "       [  40],\n",
       "       [  40],\n",
       "       [  45],\n",
       "       [  35],\n",
       "       [  35],\n",
       "       [  40],\n",
       "       [  39],\n",
       "       [  33],\n",
       "       [  42],\n",
       "       [  47],\n",
       "       [  51],\n",
       "       [  44],\n",
       "       [  40],\n",
       "       [  57],\n",
       "       [  49],\n",
       "       [  45],\n",
       "       [  49],\n",
       "       [  51],\n",
       "       [  46],\n",
       "       [  44],\n",
       "       [  52],\n",
       "       [  45],\n",
       "       [  32],\n",
       "       [  46],\n",
       "       [  41],\n",
       "       [  34],\n",
       "       [  33],\n",
       "       [  36],\n",
       "       [  49],\n",
       "       [  43],\n",
       "       [  43],\n",
       "       [  34],\n",
       "       [  39],\n",
       "       [  35],\n",
       "       [  52],\n",
       "       [  47],\n",
       "       [  52],\n",
       "       [  39],\n",
       "       [  40],\n",
       "       [  42],\n",
       "       [  42],\n",
       "       [  53],\n",
       "       [  39],\n",
       "       [  40],\n",
       "       [  38],\n",
       "       [  44],\n",
       "       [  34],\n",
       "       [  37],\n",
       "       [  52],\n",
       "       [  48],\n",
       "       [  55],\n",
       "       [  50],\n",
       "       [1959]], dtype=int64)"
      ]
     },
     "execution_count": 6,
     "metadata": {},
     "output_type": "execute_result"
    }
   ],
   "source": [
    "series_value"
   ]
  },
  {
   "cell_type": "code",
   "execution_count": 7,
   "id": "08321dae",
   "metadata": {},
   "outputs": [
    {
     "data": {
      "text/plain": [
       "numpy.ndarray"
      ]
     },
     "execution_count": 7,
     "metadata": {},
     "output_type": "execute_result"
    }
   ],
   "source": [
    "type(series_value)"
   ]
  },
  {
   "cell_type": "code",
   "execution_count": 8,
   "id": "e54eb8bb",
   "metadata": {},
   "outputs": [
    {
     "data": {
      "text/plain": [
       "366"
      ]
     },
     "execution_count": 8,
     "metadata": {},
     "output_type": "execute_result"
    }
   ],
   "source": [
    "f_birth.size"
   ]
  },
  {
   "cell_type": "code",
   "execution_count": 9,
   "id": "ca273a25",
   "metadata": {},
   "outputs": [
    {
     "data": {
      "text/html": [
       "<div>\n",
       "<style scoped>\n",
       "    .dataframe tbody tr th:only-of-type {\n",
       "        vertical-align: middle;\n",
       "    }\n",
       "\n",
       "    .dataframe tbody tr th {\n",
       "        vertical-align: top;\n",
       "    }\n",
       "\n",
       "    .dataframe thead th {\n",
       "        text-align: right;\n",
       "    }\n",
       "</style>\n",
       "<table border=\"1\" class=\"dataframe\">\n",
       "  <thead>\n",
       "    <tr style=\"text-align: right;\">\n",
       "      <th></th>\n",
       "      <th>Daily total female births in California, 1959</th>\n",
       "    </tr>\n",
       "    <tr>\n",
       "      <th>Date</th>\n",
       "      <th></th>\n",
       "    </tr>\n",
       "  </thead>\n",
       "  <tbody>\n",
       "    <tr>\n",
       "      <th>1959-12-28</th>\n",
       "      <td>52</td>\n",
       "    </tr>\n",
       "    <tr>\n",
       "      <th>1959-12-29</th>\n",
       "      <td>48</td>\n",
       "    </tr>\n",
       "    <tr>\n",
       "      <th>1959-12-30</th>\n",
       "      <td>55</td>\n",
       "    </tr>\n",
       "    <tr>\n",
       "      <th>1959-12-31</th>\n",
       "      <td>50</td>\n",
       "    </tr>\n",
       "    <tr>\n",
       "      <th>Daily total female births in California</th>\n",
       "      <td>1959</td>\n",
       "    </tr>\n",
       "  </tbody>\n",
       "</table>\n",
       "</div>"
      ],
      "text/plain": [
       "                                         Daily total female births in California, 1959\n",
       "Date                                                                                  \n",
       "1959-12-28                                                                          52\n",
       "1959-12-29                                                                          48\n",
       "1959-12-30                                                                          55\n",
       "1959-12-31                                                                          50\n",
       "Daily total female births in California                                           1959"
      ]
     },
     "execution_count": 9,
     "metadata": {},
     "output_type": "execute_result"
    }
   ],
   "source": [
    "f_birth.tail()"
   ]
  },
  {
   "cell_type": "code",
   "execution_count": 10,
   "id": "fa7b5fee",
   "metadata": {},
   "outputs": [
    {
     "data": {
      "text/html": [
       "<div>\n",
       "<style scoped>\n",
       "    .dataframe tbody tr th:only-of-type {\n",
       "        vertical-align: middle;\n",
       "    }\n",
       "\n",
       "    .dataframe tbody tr th {\n",
       "        vertical-align: top;\n",
       "    }\n",
       "\n",
       "    .dataframe thead th {\n",
       "        text-align: right;\n",
       "    }\n",
       "</style>\n",
       "<table border=\"1\" class=\"dataframe\">\n",
       "  <thead>\n",
       "    <tr style=\"text-align: right;\">\n",
       "      <th></th>\n",
       "      <th>Daily total female births in California, 1959</th>\n",
       "    </tr>\n",
       "  </thead>\n",
       "  <tbody>\n",
       "    <tr>\n",
       "      <th>count</th>\n",
       "      <td>366.000000</td>\n",
       "    </tr>\n",
       "    <tr>\n",
       "      <th>mean</th>\n",
       "      <td>47.218579</td>\n",
       "    </tr>\n",
       "    <tr>\n",
       "      <th>std</th>\n",
       "      <td>100.472534</td>\n",
       "    </tr>\n",
       "    <tr>\n",
       "      <th>min</th>\n",
       "      <td>23.000000</td>\n",
       "    </tr>\n",
       "    <tr>\n",
       "      <th>25%</th>\n",
       "      <td>37.000000</td>\n",
       "    </tr>\n",
       "    <tr>\n",
       "      <th>50%</th>\n",
       "      <td>42.000000</td>\n",
       "    </tr>\n",
       "    <tr>\n",
       "      <th>75%</th>\n",
       "      <td>46.000000</td>\n",
       "    </tr>\n",
       "    <tr>\n",
       "      <th>max</th>\n",
       "      <td>1959.000000</td>\n",
       "    </tr>\n",
       "  </tbody>\n",
       "</table>\n",
       "</div>"
      ],
      "text/plain": [
       "       Daily total female births in California, 1959\n",
       "count                                     366.000000\n",
       "mean                                       47.218579\n",
       "std                                       100.472534\n",
       "min                                        23.000000\n",
       "25%                                        37.000000\n",
       "50%                                        42.000000\n",
       "75%                                        46.000000\n",
       "max                                      1959.000000"
      ]
     },
     "execution_count": 10,
     "metadata": {},
     "output_type": "execute_result"
    }
   ],
   "source": [
    "f_birth.describe()"
   ]
  },
  {
   "cell_type": "code",
   "execution_count": 11,
   "id": "ba004e5a",
   "metadata": {},
   "outputs": [],
   "source": [
    "f_birth = f_birth[0:365]"
   ]
  },
  {
   "cell_type": "code",
   "execution_count": 12,
   "id": "ef384162",
   "metadata": {},
   "outputs": [
    {
     "data": {
      "text/html": [
       "<div>\n",
       "<style scoped>\n",
       "    .dataframe tbody tr th:only-of-type {\n",
       "        vertical-align: middle;\n",
       "    }\n",
       "\n",
       "    .dataframe tbody tr th {\n",
       "        vertical-align: top;\n",
       "    }\n",
       "\n",
       "    .dataframe thead th {\n",
       "        text-align: right;\n",
       "    }\n",
       "</style>\n",
       "<table border=\"1\" class=\"dataframe\">\n",
       "  <thead>\n",
       "    <tr style=\"text-align: right;\">\n",
       "      <th></th>\n",
       "      <th>Daily total female births in California, 1959</th>\n",
       "    </tr>\n",
       "  </thead>\n",
       "  <tbody>\n",
       "    <tr>\n",
       "      <th>count</th>\n",
       "      <td>365.000000</td>\n",
       "    </tr>\n",
       "    <tr>\n",
       "      <th>mean</th>\n",
       "      <td>41.980822</td>\n",
       "    </tr>\n",
       "    <tr>\n",
       "      <th>std</th>\n",
       "      <td>7.348257</td>\n",
       "    </tr>\n",
       "    <tr>\n",
       "      <th>min</th>\n",
       "      <td>23.000000</td>\n",
       "    </tr>\n",
       "    <tr>\n",
       "      <th>25%</th>\n",
       "      <td>37.000000</td>\n",
       "    </tr>\n",
       "    <tr>\n",
       "      <th>50%</th>\n",
       "      <td>42.000000</td>\n",
       "    </tr>\n",
       "    <tr>\n",
       "      <th>75%</th>\n",
       "      <td>46.000000</td>\n",
       "    </tr>\n",
       "    <tr>\n",
       "      <th>max</th>\n",
       "      <td>73.000000</td>\n",
       "    </tr>\n",
       "  </tbody>\n",
       "</table>\n",
       "</div>"
      ],
      "text/plain": [
       "       Daily total female births in California, 1959\n",
       "count                                     365.000000\n",
       "mean                                       41.980822\n",
       "std                                         7.348257\n",
       "min                                        23.000000\n",
       "25%                                        37.000000\n",
       "50%                                        42.000000\n",
       "75%                                        46.000000\n",
       "max                                        73.000000"
      ]
     },
     "execution_count": 12,
     "metadata": {},
     "output_type": "execute_result"
    }
   ],
   "source": [
    "f_birth.describe()"
   ]
  },
  {
   "cell_type": "code",
   "execution_count": 13,
   "id": "cf5571d4",
   "metadata": {},
   "outputs": [
    {
     "data": {
      "text/plain": [
       "<Axes: xlabel='Date'>"
      ]
     },
     "execution_count": 13,
     "metadata": {},
     "output_type": "execute_result"
    },
    {
     "data": {
      "image/png": "[encoded data removed]",
      "text/plain": [
       "<Figure size 640x480 with 1 Axes>"
      ]
     },
     "metadata": {},
     "output_type": "display_data"
    }
   ],
   "source": [
    " f_birth.plot()"
   ]
  },
  {
   "cell_type": "code",
   "execution_count": 14,
   "id": "ebda7773",
   "metadata": {},
   "outputs": [],
   "source": [
    "f_birth_mean = f_birth.rolling(window=20).mean()"
   ]
  },
  {
   "cell_type": "code",
   "execution_count": 15,
   "id": "86c1495e",
   "metadata": {},
   "outputs": [
    {
     "data": {
      "text/plain": [
       "<Axes: xlabel='Date'>"
      ]
     },
     "execution_count": 15,
     "metadata": {},
     "output_type": "execute_result"
    },
    {
     "data": {
      "image/png": "[encoded data removed]",
      "text/plain": [
       "<Figure size 640x480 with 1 Axes>"
      ]
     },
     "metadata": {},
     "output_type": "display_data"
    }
   ],
   "source": [
    "f_birth_mean.plot()"
   ]
  },
  {
   "cell_type": "markdown",
   "id": "26b695a6",
   "metadata": {},
   "source": [
    "## Baseline model"
   ]
  },
  {
   "cell_type": "code",
   "execution_count": 16,
   "id": "57509c4c",
   "metadata": {},
   "outputs": [],
   "source": [
    "value = pd.DataFrame(series_value)"
   ]
  },
  {
   "cell_type": "code",
   "execution_count": 17,
   "id": "ab2c4dbc",
   "metadata": {},
   "outputs": [],
   "source": [
    "birth_df = pd.concat([value,value.shift(1)],axis=1)"
   ]
  },
  {
   "cell_type": "code",
   "execution_count": 18,
   "id": "f8ad7cf6",
   "metadata": {},
   "outputs": [
    {
     "data": {
      "text/html": [
       "<div>\n",
       "<style scoped>\n",
       "    .dataframe tbody tr th:only-of-type {\n",
       "        vertical-align: middle;\n",
       "    }\n",
       "\n",
       "    .dataframe tbody tr th {\n",
       "        vertical-align: top;\n",
       "    }\n",
       "\n",
       "    .dataframe thead th {\n",
       "        text-align: right;\n",
       "    }\n",
       "</style>\n",
       "<table border=\"1\" class=\"dataframe\">\n",
       "  <thead>\n",
       "    <tr style=\"text-align: right;\">\n",
       "      <th></th>\n",
       "      <th>0</th>\n",
       "      <th>0</th>\n",
       "    </tr>\n",
       "  </thead>\n",
       "  <tbody>\n",
       "    <tr>\n",
       "      <th>0</th>\n",
       "      <td>35</td>\n",
       "      <td>NaN</td>\n",
       "    </tr>\n",
       "    <tr>\n",
       "      <th>1</th>\n",
       "      <td>32</td>\n",
       "      <td>35.0</td>\n",
       "    </tr>\n",
       "    <tr>\n",
       "      <th>2</th>\n",
       "      <td>30</td>\n",
       "      <td>32.0</td>\n",
       "    </tr>\n",
       "    <tr>\n",
       "      <th>3</th>\n",
       "      <td>31</td>\n",
       "      <td>30.0</td>\n",
       "    </tr>\n",
       "    <tr>\n",
       "      <th>4</th>\n",
       "      <td>44</td>\n",
       "      <td>31.0</td>\n",
       "    </tr>\n",
       "  </tbody>\n",
       "</table>\n",
       "</div>"
      ],
      "text/plain": [
       "    0     0\n",
       "0  35   NaN\n",
       "1  32  35.0\n",
       "2  30  32.0\n",
       "3  31  30.0\n",
       "4  44  31.0"
      ]
     },
     "execution_count": 18,
     "metadata": {},
     "output_type": "execute_result"
    }
   ],
   "source": [
    "birth_df.head()"
   ]
  },
  {
   "cell_type": "code",
   "execution_count": 19,
   "id": "c7761ba5",
   "metadata": {},
   "outputs": [],
   "source": [
    "birth_df.columns = ['Actual_birth','Forecast_birth']"
   ]
  },
  {
   "cell_type": "code",
   "execution_count": 20,
   "id": "c0949b54",
   "metadata": {},
   "outputs": [
    {
     "data": {
      "text/html": [
       "<div>\n",
       "<style scoped>\n",
       "    .dataframe tbody tr th:only-of-type {\n",
       "        vertical-align: middle;\n",
       "    }\n",
       "\n",
       "    .dataframe tbody tr th {\n",
       "        vertical-align: top;\n",
       "    }\n",
       "\n",
       "    .dataframe thead th {\n",
       "        text-align: right;\n",
       "    }\n",
       "</style>\n",
       "<table border=\"1\" class=\"dataframe\">\n",
       "  <thead>\n",
       "    <tr style=\"text-align: right;\">\n",
       "      <th></th>\n",
       "      <th>Actual_birth</th>\n",
       "      <th>Forecast_birth</th>\n",
       "    </tr>\n",
       "  </thead>\n",
       "  <tbody>\n",
       "    <tr>\n",
       "      <th>0</th>\n",
       "      <td>35</td>\n",
       "      <td>NaN</td>\n",
       "    </tr>\n",
       "    <tr>\n",
       "      <th>1</th>\n",
       "      <td>32</td>\n",
       "      <td>35.0</td>\n",
       "    </tr>\n",
       "    <tr>\n",
       "      <th>2</th>\n",
       "      <td>30</td>\n",
       "      <td>32.0</td>\n",
       "    </tr>\n",
       "    <tr>\n",
       "      <th>3</th>\n",
       "      <td>31</td>\n",
       "      <td>30.0</td>\n",
       "    </tr>\n",
       "    <tr>\n",
       "      <th>4</th>\n",
       "      <td>44</td>\n",
       "      <td>31.0</td>\n",
       "    </tr>\n",
       "  </tbody>\n",
       "</table>\n",
       "</div>"
      ],
      "text/plain": [
       "   Actual_birth  Forecast_birth\n",
       "0            35             NaN\n",
       "1            32            35.0\n",
       "2            30            32.0\n",
       "3            31            30.0\n",
       "4            44            31.0"
      ]
     },
     "execution_count": 20,
     "metadata": {},
     "output_type": "execute_result"
    }
   ],
   "source": [
    "birth_df.head()"
   ]
  },
  {
   "cell_type": "code",
   "execution_count": 21,
   "id": "5bd93668",
   "metadata": {},
   "outputs": [],
   "source": [
    "from sklearn.metrics import mean_squared_error\n",
    "import numpy as np"
   ]
  },
  {
   "cell_type": "code",
   "execution_count": 22,
   "id": "2253cfb2",
   "metadata": {},
   "outputs": [],
   "source": [
    "birth_test = birth_df[1:365]"
   ]
  },
  {
   "cell_type": "code",
   "execution_count": 23,
   "id": "0ae55241",
   "metadata": {},
   "outputs": [
    {
     "data": {
      "text/html": [
       "<div>\n",
       "<style scoped>\n",
       "    .dataframe tbody tr th:only-of-type {\n",
       "        vertical-align: middle;\n",
       "    }\n",
       "\n",
       "    .dataframe tbody tr th {\n",
       "        vertical-align: top;\n",
       "    }\n",
       "\n",
       "    .dataframe thead th {\n",
       "        text-align: right;\n",
       "    }\n",
       "</style>\n",
       "<table border=\"1\" class=\"dataframe\">\n",
       "  <thead>\n",
       "    <tr style=\"text-align: right;\">\n",
       "      <th></th>\n",
       "      <th>Actual_birth</th>\n",
       "      <th>Forecast_birth</th>\n",
       "    </tr>\n",
       "  </thead>\n",
       "  <tbody>\n",
       "    <tr>\n",
       "      <th>1</th>\n",
       "      <td>32</td>\n",
       "      <td>35.0</td>\n",
       "    </tr>\n",
       "    <tr>\n",
       "      <th>2</th>\n",
       "      <td>30</td>\n",
       "      <td>32.0</td>\n",
       "    </tr>\n",
       "    <tr>\n",
       "      <th>3</th>\n",
       "      <td>31</td>\n",
       "      <td>30.0</td>\n",
       "    </tr>\n",
       "    <tr>\n",
       "      <th>4</th>\n",
       "      <td>44</td>\n",
       "      <td>31.0</td>\n",
       "    </tr>\n",
       "    <tr>\n",
       "      <th>5</th>\n",
       "      <td>29</td>\n",
       "      <td>44.0</td>\n",
       "    </tr>\n",
       "  </tbody>\n",
       "</table>\n",
       "</div>"
      ],
      "text/plain": [
       "   Actual_birth  Forecast_birth\n",
       "1            32            35.0\n",
       "2            30            32.0\n",
       "3            31            30.0\n",
       "4            44            31.0\n",
       "5            29            44.0"
      ]
     },
     "execution_count": 23,
     "metadata": {},
     "output_type": "execute_result"
    }
   ],
   "source": [
    "birth_test.head()"
   ]
  },
  {
   "cell_type": "code",
   "execution_count": 24,
   "id": "2f7446eb",
   "metadata": {},
   "outputs": [
    {
     "data": {
      "text/html": [
       "<div>\n",
       "<style scoped>\n",
       "    .dataframe tbody tr th:only-of-type {\n",
       "        vertical-align: middle;\n",
       "    }\n",
       "\n",
       "    .dataframe tbody tr th {\n",
       "        vertical-align: top;\n",
       "    }\n",
       "\n",
       "    .dataframe thead th {\n",
       "        text-align: right;\n",
       "    }\n",
       "</style>\n",
       "<table border=\"1\" class=\"dataframe\">\n",
       "  <thead>\n",
       "    <tr style=\"text-align: right;\">\n",
       "      <th></th>\n",
       "      <th>Actual_birth</th>\n",
       "      <th>Forecast_birth</th>\n",
       "    </tr>\n",
       "  </thead>\n",
       "  <tbody>\n",
       "    <tr>\n",
       "      <th>360</th>\n",
       "      <td>37</td>\n",
       "      <td>34.0</td>\n",
       "    </tr>\n",
       "    <tr>\n",
       "      <th>361</th>\n",
       "      <td>52</td>\n",
       "      <td>37.0</td>\n",
       "    </tr>\n",
       "    <tr>\n",
       "      <th>362</th>\n",
       "      <td>48</td>\n",
       "      <td>52.0</td>\n",
       "    </tr>\n",
       "    <tr>\n",
       "      <th>363</th>\n",
       "      <td>55</td>\n",
       "      <td>48.0</td>\n",
       "    </tr>\n",
       "    <tr>\n",
       "      <th>364</th>\n",
       "      <td>50</td>\n",
       "      <td>55.0</td>\n",
       "    </tr>\n",
       "  </tbody>\n",
       "</table>\n",
       "</div>"
      ],
      "text/plain": [
       "     Actual_birth  Forecast_birth\n",
       "360            37            34.0\n",
       "361            52            37.0\n",
       "362            48            52.0\n",
       "363            55            48.0\n",
       "364            50            55.0"
      ]
     },
     "execution_count": 24,
     "metadata": {},
     "output_type": "execute_result"
    }
   ],
   "source": [
    "birth_test.tail()"
   ]
  },
  {
   "cell_type": "code",
   "execution_count": 25,
   "id": "3487ab2e",
   "metadata": {},
   "outputs": [],
   "source": [
    "birth_error = mean_squared_error(birth_test.Actual_birth,birth_test.Forecast_birth)"
   ]
  },
  {
   "cell_type": "code",
   "execution_count": 26,
   "id": "3f4529b9",
   "metadata": {},
   "outputs": [
    {
     "data": {
      "text/plain": [
       "84.22252747252747"
      ]
     },
     "execution_count": 26,
     "metadata": {},
     "output_type": "execute_result"
    }
   ],
   "source": [
    "birth_error"
   ]
  },
  {
   "cell_type": "code",
   "execution_count": 27,
   "id": "69fdc9ed",
   "metadata": {},
   "outputs": [
    {
     "data": {
      "text/plain": [
       "9.177283229394606"
      ]
     },
     "execution_count": 27,
     "metadata": {},
     "output_type": "execute_result"
    }
   ],
   "source": [
    "np.sqrt(birth_error)"
   ]
  },
  {
   "cell_type": "code",
   "execution_count": 28,
   "id": "b2212921",
   "metadata": {},
   "outputs": [],
   "source": [
    "from statsmodels.graphics.tsaplots import plot_acf,plot_pacf"
   ]
  },
  {
   "cell_type": "code",
   "execution_count": 29,
   "id": "9dc812f6",
   "metadata": {},
   "outputs": [
    {
     "data": {
      "image/png": "[encoded data removed]",
      "text/plain": [
       "<Figure size 640x480 with 1 Axes>"
      ]
     },
     "execution_count": 29,
     "metadata": {},
     "output_type": "execute_result"
    },
    {
     "data": {
      "image/png": "[encoded data removed]",
      "text/plain": [
       "<Figure size 640x480 with 1 Axes>"
      ]
     },
     "metadata": {},
     "output_type": "display_data"
    }
   ],
   "source": [
    "# plot_acf is to identify parameter q\n",
    "# ARIMA(p,d,q)\n",
    "\n",
    "plot_acf(f_birth)"
   ]
  },
  {
   "cell_type": "code",
   "execution_count": 30,
   "id": "80b93f0c",
   "metadata": {},
   "outputs": [
    {
     "data": {
      "image/png": "[encoded data removed]",
      "text/plain": [
       "<Figure size 640x480 with 1 Axes>"
      ]
     },
     "execution_count": 30,
     "metadata": {},
     "output_type": "execute_result"
    },
    {
     "data": {
      "image/png": "[encoded data removed]",
      "text/plain": [
       "<Figure size 640x480 with 1 Axes>"
      ]
     },
     "metadata": {},
     "output_type": "display_data"
    }
   ],
   "source": [
    "# plot_pacf is to identify parameter p\n",
    "plot_pacf(f_birth)"
   ]
  },
  {
   "cell_type": "code",
   "execution_count": 31,
   "id": "09b10eca",
   "metadata": {},
   "outputs": [
    {
     "data": {
      "text/plain": [
       "365"
      ]
     },
     "execution_count": 31,
     "metadata": {},
     "output_type": "execute_result"
    }
   ],
   "source": [
    "# p = 2,3   d = 0   & q = 3,4\n",
    "f_birth.size"
   ]
  },
  {
   "cell_type": "code",
   "execution_count": 32,
   "id": "bbd64f6f",
   "metadata": {},
   "outputs": [],
   "source": [
    "birth_train=f_birth[0:330]\n",
    "birth_test=f_birth[330:365]"
   ]
  },
  {
   "cell_type": "code",
   "execution_count": 33,
   "id": "e4d737f9",
   "metadata": {},
   "outputs": [
    {
     "data": {
      "text/plain": [
       "330"
      ]
     },
     "execution_count": 33,
     "metadata": {},
     "output_type": "execute_result"
    }
   ],
   "source": [
    "birth_train.size"
   ]
  },
  {
   "cell_type": "code",
   "execution_count": 34,
   "id": "934e7bde",
   "metadata": {},
   "outputs": [
    {
     "data": {
      "text/plain": [
       "35"
      ]
     },
     "execution_count": 34,
     "metadata": {},
     "output_type": "execute_result"
    }
   ],
   "source": [
    "birth_test.size"
   ]
  },
  {
   "cell_type": "code",
   "execution_count": 35,
   "id": "a953ed34",
   "metadata": {},
   "outputs": [],
   "source": [
    "from statsmodels.tsa.arima.model import ARIMA"
   ]
  },
  {
   "cell_type": "code",
   "execution_count": 36,
   "id": "0ec91900",
   "metadata": {},
   "outputs": [
    {
     "name": "stdout",
     "output_type": "stream",
     "text": [
      "Requirement already satisfied: pandas in c:\\users\\hp\\anaconda3\\lib\\site-packages (2.1.4)\n",
      "Requirement already satisfied: numpy in c:\\users\\hp\\anaconda3\\lib\\site-packages (1.24.3)\n",
      "Collecting pmdarima\n",
      "  Obtaining dependency information for pmdarima from https://files.pythonhosted.org/packages/ac/f8/6c9364602b13f0dba129b53acd1344859690911a4d5021560d9fd6aa087f/pmdarima-2.0.4-cp311-cp311-win_amd64.whl.metadata\n",
      "  Downloading pmdarima-2.0.4-cp311-cp311-win_amd64.whl.metadata (8.0 kB)\n",
      "Requirement already satisfied: python-dateutil>=2.8.2 in c:\\users\\hp\\anaconda3\\lib\\site-packages (from pandas) (2.8.2)\n",
      "Requirement already satisfied: pytz>=2020.1 in c:\\users\\hp\\anaconda3\\lib\\site-packages (from pandas) (2023.3.post1)\n",
      "Requirement already satisfied: tzdata>=2022.1 in c:\\users\\hp\\anaconda3\\lib\\site-packages (from pandas) (2023.3)\n",
      "Requirement already satisfied: joblib>=0.11 in c:\\users\\hp\\anaconda3\\lib\\site-packages (from pmdarima) (1.2.0)\n",
      "Collecting Cython!=0.29.18,!=0.29.31,>=0.29 (from pmdarima)\n",
      "  Obtaining dependency information for Cython!=0.29.18,!=0.29.31,>=0.29 from https://files.pythonhosted.org/packages/18/ec/f47a721071d084d6c2b6783eb8d058b964b1450cb708d920d0d792f42001/Cython-3.0.10-cp311-cp311-win_amd64.whl.metadata\n",
      "  Downloading Cython-3.0.10-cp311-cp311-win_amd64.whl.metadata (3.2 kB)\n",
      "Requirement already satisfied: scikit-learn>=0.22 in c:\\users\\hp\\anaconda3\\lib\\site-packages (from pmdarima) (1.3.0)\n",
      "Requirement already satisfied: scipy>=1.3.2 in c:\\users\\hp\\anaconda3\\lib\\site-packages (from pmdarima) (1.11.1)\n",
      "Requirement already satisfied: statsmodels>=0.13.2 in c:\\users\\hp\\anaconda3\\lib\\site-packages (from pmdarima) (0.14.0)\n",
      "Requirement already satisfied: urllib3 in c:\\users\\hp\\anaconda3\\lib\\site-packages (from pmdarima) (1.26.16)\n",
      "Requirement already satisfied: setuptools!=50.0.0,>=38.6.0 in c:\\users\\hp\\anaconda3\\lib\\site-packages (from pmdarima) (68.0.0)\n",
      "Requirement already satisfied: packaging>=17.1 in c:\\users\\hp\\anaconda3\\lib\\site-packages (from pmdarima) (23.1)\n",
      "Requirement already satisfied: six>=1.5 in c:\\users\\hp\\anaconda3\\lib\\site-packages (from python-dateutil>=2.8.2->pandas) (1.16.0)\n",
      "Requirement already satisfied: threadpoolctl>=2.0.0 in c:\\users\\hp\\anaconda3\\lib\\site-packages (from scikit-learn>=0.22->pmdarima) (2.2.0)\n",
      "Requirement already satisfied: patsy>=0.5.2 in c:\\users\\hp\\anaconda3\\lib\\site-packages (from statsmodels>=0.13.2->pmdarima) (0.5.3)\n",
      "Downloading pmdarima-2.0.4-cp311-cp311-win_amd64.whl (614 kB)\n",
      "   ---------------------------------------- 0.0/614.7 kB ? eta -:--:--\n",
      "   - ------------------------------------- 20.5/614.7 kB 640.0 kB/s eta 0:00:01\n",
      "   --- ----------------------------------- 61.4/614.7 kB 812.7 kB/s eta 0:00:01\n",
      "   --------------- ------------------------ 235.5/614.7 kB 2.1 MB/s eta 0:00:01\n",
      "   ---------------------------------------  614.4/614.7 kB 3.9 MB/s eta 0:00:01\n",
      "   ---------------------------------------- 614.7/614.7 kB 3.2 MB/s eta 0:00:00\n",
      "Downloading Cython-3.0.10-cp311-cp311-win_amd64.whl (2.8 MB)\n",
      "   ---------------------------------------- 0.0/2.8 MB ? eta -:--:--\n",
      "   ------- -------------------------------- 0.5/2.8 MB 16.5 MB/s eta 0:00:01\n",
      "   ----------- ---------------------------- 0.8/2.8 MB 10.4 MB/s eta 0:00:01\n",
      "   --------------- ------------------------ 1.1/2.8 MB 7.8 MB/s eta 0:00:01\n",
      "   -------------------- ------------------- 1.4/2.8 MB 8.1 MB/s eta 0:00:01\n",
      "   ------------------------ --------------- 1.7/2.8 MB 7.2 MB/s eta 0:00:01\n",
      "   ---------------------------- ----------- 2.0/2.8 MB 7.1 MB/s eta 0:00:01\n",
      "   -------------------------------- ------- 2.3/2.8 MB 6.9 MB/s eta 0:00:01\n",
      "   ------------------------------------- -- 2.6/2.8 MB 6.9 MB/s eta 0:00:01\n",
      "   ---------------------------------------- 2.8/2.8 MB 6.6 MB/s eta 0:00:00\n",
      "Installing collected packages: Cython, pmdarima\n",
      "Successfully installed Cython-3.0.10 pmdarima-2.0.4\n",
      "Note: you may need to restart the kernel to use updated packages.\n"
     ]
    },
    {
     "name": "stderr",
     "output_type": "stream",
     "text": [
      "ERROR: pip's dependency resolver does not currently take into account all the packages that are installed. This behaviour is the source of the following dependency conflicts.\n",
      "tables 3.8.0 requires blosc2~=2.0.0, which is not installed.\n"
     ]
    }
   ],
   "source": [
    "pip install pandas numpy pmdarima\n"
   ]
  },
  {
   "cell_type": "code",
   "execution_count": 37,
   "id": "d1cc8078",
   "metadata": {},
   "outputs": [],
   "source": [
    "import pandas as pd\n",
    "import numpy as np\n",
    "from pmdarima import auto_arima\n",
    "import warnings\n",
    "warnings.filterwarnings(\"ignore\")\n",
    "def find_best_arima_params(time_series):\n",
    "    \"\"\"\n",
    "    This function takes a time series and returns the best p, d, q parameters for an ARIMA model.\n",
    "\n",
    "    Parameters:\n",
    "    time_series (pd.Series): The input time series data.\n",
    "\n",
    "    Returns:\n",
    "    tuple: The best (p, d, q) parameters.\n",
    "    \"\"\"\n",
    "    # Fit auto_arima model\n",
    "    model = auto_arima(time_series, \n",
    "                       start_p=0, max_p=5,\n",
    "                       start_q=0, max_q=5,\n",
    "                       seasonal=False, \n",
    "                       trace=False,\n",
    "                       error_action='ignore', \n",
    "                       suppress_warnings=True, \n",
    "                       stepwise=True)\n",
    "    return model.order\n"
   ]
  },
  {
   "cell_type": "code",
   "execution_count": 38,
   "id": "2dc051f7",
   "metadata": {},
   "outputs": [
    {
     "name": "stdout",
     "output_type": "stream",
     "text": [
      "Best ARIMA parameters for series1: p=0, d=1, q=0\n",
      "Best ARIMA parameters for series2: p=0, d=1, q=0\n",
      "Best ARIMA parameters for series3: p=0, d=1, q=0\n"
     ]
    }
   ],
   "source": [
    "def apply_arima_to_series(birth_train):\n",
    "    \"\"\"\n",
    "    This function applies the find_best_arima_params function to multiple time series.\n",
    "\n",
    "    Parameters:\n",
    "    series_dict (dict): A dictionary where keys are the names of the time series and values are the time series data.\n",
    "\n",
    "    Returns:\n",
    "    dict: A dictionary with the best (p, d, q) parameters for each time series.\n",
    "    \"\"\"\n",
    "    best_params = {}\n",
    "    for name, series in birth_train.items():\n",
    "        best_params[name] = find_best_arima_params(series)\n",
    "    return best_params\n",
    "if __name__ == \"__main__\":\n",
    "    # Example time series data\n",
    "    time_series_data = {\n",
    "        \"series1\": pd.Series(np.random.randn(100).cumsum() + 100),\n",
    "        \"series2\": pd.Series(np.random.randn(100).cumsum() + 200),\n",
    "        \"series3\": pd.Series(np.random.randn(100).cumsum() + 300)\n",
    "    }\n",
    "\n",
    "    # Find the best ARIMA parameters for each time series\n",
    "    best_arima_params = apply_arima_to_series(time_series_data)\n",
    "\n",
    "    # Print the best parameters\n",
    "    for series_name, params in best_arima_params.items():\n",
    "        print(f\"Best ARIMA parameters for {series_name}: p={params[0]}, d={params[1]}, q={params[2]}\")\n"
   ]
  },
  {
   "cell_type": "code",
   "execution_count": 125,
   "id": "14d713f8",
   "metadata": {
    "scrolled": true
   },
   "outputs": [
    {
     "name": "stderr",
     "output_type": "stream",
     "text": [
      "C:\\Users\\HP\\anaconda3\\Lib\\site-packages\\statsmodels\\tsa\\base\\tsa_model.py:473: ValueWarning: No frequency information was provided, so inferred frequency D will be used.\n",
      "  self._init_dates(dates, freq)\n",
      "C:\\Users\\HP\\anaconda3\\Lib\\site-packages\\statsmodels\\tsa\\base\\tsa_model.py:473: ValueWarning: No frequency information was provided, so inferred frequency D will be used.\n",
      "  self._init_dates(dates, freq)\n",
      "C:\\Users\\HP\\anaconda3\\Lib\\site-packages\\statsmodels\\tsa\\base\\tsa_model.py:473: ValueWarning: No frequency information was provided, so inferred frequency D will be used.\n",
      "  self._init_dates(dates, freq)\n"
     ]
    }
   ],
   "source": [
    "birth_model = ARIMA(birth_train,order = (2,1,3))"
   ]
  },
  {
   "cell_type": "code",
   "execution_count": 126,
   "id": "87a56936",
   "metadata": {},
   "outputs": [
    {
     "name": "stderr",
     "output_type": "stream",
     "text": [
      "C:\\Users\\HP\\anaconda3\\Lib\\site-packages\\statsmodels\\base\\model.py:607: ConvergenceWarning: Maximum Likelihood optimization failed to converge. Check mle_retvals\n",
      "  warnings.warn(\"Maximum Likelihood optimization failed to \"\n"
     ]
    }
   ],
   "source": [
    "birth_model_fit = birth_model.fit()"
   ]
  },
  {
   "cell_type": "code",
   "execution_count": 127,
   "id": "4b000d58",
   "metadata": {},
   "outputs": [
    {
     "data": {
      "text/plain": [
       "2229.8533100343043"
      ]
     },
     "execution_count": 127,
     "metadata": {},
     "output_type": "execute_result"
    }
   ],
   "source": [
    "birth_model_fit.aic"
   ]
  },
  {
   "cell_type": "code",
   "execution_count": 128,
   "id": "119d78f3",
   "metadata": {},
   "outputs": [],
   "source": [
    "birth_forecast = birth_model_fit.forecast(steps = 35).iloc[0:35]"
   ]
  },
  {
   "cell_type": "code",
   "execution_count": 129,
   "id": "e2a99656",
   "metadata": {},
   "outputs": [
    {
     "data": {
      "text/plain": [
       "1959-11-27    45.022068\n",
       "1959-11-28    44.995074\n",
       "1959-11-29    44.579873\n",
       "1959-11-30    44.739929\n",
       "1959-12-01    44.452109\n",
       "1959-12-02    44.658038\n",
       "1959-12-03    44.418625\n",
       "1959-12-04    44.628595\n",
       "1959-12-05    44.413203\n",
       "1959-12-06    44.615229\n",
       "1959-12-07    44.415936\n",
       "1959-12-08    44.606980\n",
       "1959-12-09    44.420853\n",
       "1959-12-10    44.600532\n",
       "1959-12-11    44.426174\n",
       "1959-12-12    44.594871\n",
       "1959-12-13    44.431378\n",
       "1959-12-14    44.589678\n",
       "1959-12-15    44.436325\n",
       "1959-12-16    44.584841\n",
       "1959-12-17    44.440984\n",
       "1959-12-18    44.580314\n",
       "1959-12-19    44.445361\n",
       "1959-12-20    44.576070\n",
       "1959-12-21    44.449469\n",
       "1959-12-22    44.572090\n",
       "1959-12-23    44.453324\n",
       "1959-12-24    44.568357\n",
       "1959-12-25    44.456940\n",
       "1959-12-26    44.564854\n",
       "1959-12-27    44.460332\n",
       "1959-12-28    44.561569\n",
       "1959-12-29    44.463514\n",
       "1959-12-30    44.558486\n",
       "1959-12-31    44.466500\n",
       "Freq: D, Name: predicted_mean, dtype: float64"
      ]
     },
     "execution_count": 129,
     "metadata": {},
     "output_type": "execute_result"
    }
   ],
   "source": [
    "birth_forecast"
   ]
  },
  {
   "cell_type": "code",
   "execution_count": 130,
   "id": "ab678232",
   "metadata": {},
   "outputs": [
    {
     "data": {
      "text/html": [
       "<div>\n",
       "<style scoped>\n",
       "    .dataframe tbody tr th:only-of-type {\n",
       "        vertical-align: middle;\n",
       "    }\n",
       "\n",
       "    .dataframe tbody tr th {\n",
       "        vertical-align: top;\n",
       "    }\n",
       "\n",
       "    .dataframe thead th {\n",
       "        text-align: right;\n",
       "    }\n",
       "</style>\n",
       "<table border=\"1\" class=\"dataframe\">\n",
       "  <thead>\n",
       "    <tr style=\"text-align: right;\">\n",
       "      <th></th>\n",
       "      <th>Daily total female births in California, 1959</th>\n",
       "    </tr>\n",
       "    <tr>\n",
       "      <th>Date</th>\n",
       "      <th></th>\n",
       "    </tr>\n",
       "  </thead>\n",
       "  <tbody>\n",
       "    <tr>\n",
       "      <th>1959-11-27</th>\n",
       "      <td>51</td>\n",
       "    </tr>\n",
       "    <tr>\n",
       "      <th>1959-11-28</th>\n",
       "      <td>46</td>\n",
       "    </tr>\n",
       "    <tr>\n",
       "      <th>1959-11-29</th>\n",
       "      <td>44</td>\n",
       "    </tr>\n",
       "    <tr>\n",
       "      <th>1959-11-30</th>\n",
       "      <td>52</td>\n",
       "    </tr>\n",
       "    <tr>\n",
       "      <th>1959-12-01</th>\n",
       "      <td>45</td>\n",
       "    </tr>\n",
       "    <tr>\n",
       "      <th>1959-12-02</th>\n",
       "      <td>32</td>\n",
       "    </tr>\n",
       "    <tr>\n",
       "      <th>1959-12-03</th>\n",
       "      <td>46</td>\n",
       "    </tr>\n",
       "    <tr>\n",
       "      <th>1959-12-04</th>\n",
       "      <td>41</td>\n",
       "    </tr>\n",
       "    <tr>\n",
       "      <th>1959-12-05</th>\n",
       "      <td>34</td>\n",
       "    </tr>\n",
       "    <tr>\n",
       "      <th>1959-12-06</th>\n",
       "      <td>33</td>\n",
       "    </tr>\n",
       "    <tr>\n",
       "      <th>1959-12-07</th>\n",
       "      <td>36</td>\n",
       "    </tr>\n",
       "    <tr>\n",
       "      <th>1959-12-08</th>\n",
       "      <td>49</td>\n",
       "    </tr>\n",
       "    <tr>\n",
       "      <th>1959-12-09</th>\n",
       "      <td>43</td>\n",
       "    </tr>\n",
       "    <tr>\n",
       "      <th>1959-12-10</th>\n",
       "      <td>43</td>\n",
       "    </tr>\n",
       "    <tr>\n",
       "      <th>1959-12-11</th>\n",
       "      <td>34</td>\n",
       "    </tr>\n",
       "    <tr>\n",
       "      <th>1959-12-12</th>\n",
       "      <td>39</td>\n",
       "    </tr>\n",
       "    <tr>\n",
       "      <th>1959-12-13</th>\n",
       "      <td>35</td>\n",
       "    </tr>\n",
       "    <tr>\n",
       "      <th>1959-12-14</th>\n",
       "      <td>52</td>\n",
       "    </tr>\n",
       "    <tr>\n",
       "      <th>1959-12-15</th>\n",
       "      <td>47</td>\n",
       "    </tr>\n",
       "    <tr>\n",
       "      <th>1959-12-16</th>\n",
       "      <td>52</td>\n",
       "    </tr>\n",
       "    <tr>\n",
       "      <th>1959-12-17</th>\n",
       "      <td>39</td>\n",
       "    </tr>\n",
       "    <tr>\n",
       "      <th>1959-12-18</th>\n",
       "      <td>40</td>\n",
       "    </tr>\n",
       "    <tr>\n",
       "      <th>1959-12-19</th>\n",
       "      <td>42</td>\n",
       "    </tr>\n",
       "    <tr>\n",
       "      <th>1959-12-20</th>\n",
       "      <td>42</td>\n",
       "    </tr>\n",
       "    <tr>\n",
       "      <th>1959-12-21</th>\n",
       "      <td>53</td>\n",
       "    </tr>\n",
       "    <tr>\n",
       "      <th>1959-12-22</th>\n",
       "      <td>39</td>\n",
       "    </tr>\n",
       "    <tr>\n",
       "      <th>1959-12-23</th>\n",
       "      <td>40</td>\n",
       "    </tr>\n",
       "    <tr>\n",
       "      <th>1959-12-24</th>\n",
       "      <td>38</td>\n",
       "    </tr>\n",
       "    <tr>\n",
       "      <th>1959-12-25</th>\n",
       "      <td>44</td>\n",
       "    </tr>\n",
       "    <tr>\n",
       "      <th>1959-12-26</th>\n",
       "      <td>34</td>\n",
       "    </tr>\n",
       "    <tr>\n",
       "      <th>1959-12-27</th>\n",
       "      <td>37</td>\n",
       "    </tr>\n",
       "    <tr>\n",
       "      <th>1959-12-28</th>\n",
       "      <td>52</td>\n",
       "    </tr>\n",
       "    <tr>\n",
       "      <th>1959-12-29</th>\n",
       "      <td>48</td>\n",
       "    </tr>\n",
       "    <tr>\n",
       "      <th>1959-12-30</th>\n",
       "      <td>55</td>\n",
       "    </tr>\n",
       "    <tr>\n",
       "      <th>1959-12-31</th>\n",
       "      <td>50</td>\n",
       "    </tr>\n",
       "  </tbody>\n",
       "</table>\n",
       "</div>"
      ],
      "text/plain": [
       "            Daily total female births in California, 1959\n",
       "Date                                                     \n",
       "1959-11-27                                             51\n",
       "1959-11-28                                             46\n",
       "1959-11-29                                             44\n",
       "1959-11-30                                             52\n",
       "1959-12-01                                             45\n",
       "1959-12-02                                             32\n",
       "1959-12-03                                             46\n",
       "1959-12-04                                             41\n",
       "1959-12-05                                             34\n",
       "1959-12-06                                             33\n",
       "1959-12-07                                             36\n",
       "1959-12-08                                             49\n",
       "1959-12-09                                             43\n",
       "1959-12-10                                             43\n",
       "1959-12-11                                             34\n",
       "1959-12-12                                             39\n",
       "1959-12-13                                             35\n",
       "1959-12-14                                             52\n",
       "1959-12-15                                             47\n",
       "1959-12-16                                             52\n",
       "1959-12-17                                             39\n",
       "1959-12-18                                             40\n",
       "1959-12-19                                             42\n",
       "1959-12-20                                             42\n",
       "1959-12-21                                             53\n",
       "1959-12-22                                             39\n",
       "1959-12-23                                             40\n",
       "1959-12-24                                             38\n",
       "1959-12-25                                             44\n",
       "1959-12-26                                             34\n",
       "1959-12-27                                             37\n",
       "1959-12-28                                             52\n",
       "1959-12-29                                             48\n",
       "1959-12-30                                             55\n",
       "1959-12-31                                             50"
      ]
     },
     "execution_count": 130,
     "metadata": {},
     "output_type": "execute_result"
    }
   ],
   "source": [
    "birth_test"
   ]
  },
  {
   "cell_type": "code",
   "execution_count": 131,
   "id": "2f64e059",
   "metadata": {},
   "outputs": [
    {
     "data": {
      "text/plain": [
       "6.664974379284187"
      ]
     },
     "execution_count": 131,
     "metadata": {},
     "output_type": "execute_result"
    }
   ],
   "source": [
    "np.sqrt(mean_squared_error(birth_test,birth_forecast))"
   ]
  },
  {
   "cell_type": "code",
   "execution_count": 132,
   "id": "cf516eea",
   "metadata": {},
   "outputs": [],
   "source": [
    "import pandas as pd\n",
    "import matplotlib.pyplot as plt\n",
    "%matplotlib inline"
   ]
  },
  {
   "cell_type": "code",
   "execution_count": 133,
   "id": "6f841414",
   "metadata": {},
   "outputs": [],
   "source": [
    "f_birth = pd.read_csv('daily-total-female-births-in-cal.csv',index_col=[0],parse_dates=[0])"
   ]
  },
  {
   "cell_type": "code",
   "execution_count": 134,
   "id": "8d115eb6",
   "metadata": {},
   "outputs": [
    {
     "data": {
      "text/html": [
       "<div>\n",
       "<style scoped>\n",
       "    .dataframe tbody tr th:only-of-type {\n",
       "        vertical-align: middle;\n",
       "    }\n",
       "\n",
       "    .dataframe tbody tr th {\n",
       "        vertical-align: top;\n",
       "    }\n",
       "\n",
       "    .dataframe thead th {\n",
       "        text-align: right;\n",
       "    }\n",
       "</style>\n",
       "<table border=\"1\" class=\"dataframe\">\n",
       "  <thead>\n",
       "    <tr style=\"text-align: right;\">\n",
       "      <th></th>\n",
       "      <th>Daily total female births in California, 1959</th>\n",
       "    </tr>\n",
       "    <tr>\n",
       "      <th>Date</th>\n",
       "      <th></th>\n",
       "    </tr>\n",
       "  </thead>\n",
       "  <tbody>\n",
       "    <tr>\n",
       "      <th>1959-01-01</th>\n",
       "      <td>35</td>\n",
       "    </tr>\n",
       "    <tr>\n",
       "      <th>1959-01-02</th>\n",
       "      <td>32</td>\n",
       "    </tr>\n",
       "    <tr>\n",
       "      <th>1959-01-03</th>\n",
       "      <td>30</td>\n",
       "    </tr>\n",
       "    <tr>\n",
       "      <th>1959-01-04</th>\n",
       "      <td>31</td>\n",
       "    </tr>\n",
       "    <tr>\n",
       "      <th>1959-01-05</th>\n",
       "      <td>44</td>\n",
       "    </tr>\n",
       "  </tbody>\n",
       "</table>\n",
       "</div>"
      ],
      "text/plain": [
       "            Daily total female births in California, 1959\n",
       "Date                                                     \n",
       "1959-01-01                                             35\n",
       "1959-01-02                                             32\n",
       "1959-01-03                                             30\n",
       "1959-01-04                                             31\n",
       "1959-01-05                                             44"
      ]
     },
     "execution_count": 134,
     "metadata": {},
     "output_type": "execute_result"
    }
   ],
   "source": [
    "f_birth.head()"
   ]
  },
  {
   "cell_type": "code",
   "execution_count": 135,
   "id": "17ceaf88",
   "metadata": {},
   "outputs": [],
   "source": [
    "f_birth = f_birth[0:365]"
   ]
  },
  {
   "cell_type": "code",
   "execution_count": 136,
   "id": "69eea22a",
   "metadata": {},
   "outputs": [
    {
     "data": {
      "text/html": [
       "<div>\n",
       "<style scoped>\n",
       "    .dataframe tbody tr th:only-of-type {\n",
       "        vertical-align: middle;\n",
       "    }\n",
       "\n",
       "    .dataframe tbody tr th {\n",
       "        vertical-align: top;\n",
       "    }\n",
       "\n",
       "    .dataframe thead th {\n",
       "        text-align: right;\n",
       "    }\n",
       "</style>\n",
       "<table border=\"1\" class=\"dataframe\">\n",
       "  <thead>\n",
       "    <tr style=\"text-align: right;\">\n",
       "      <th></th>\n",
       "      <th>Daily total female births in California, 1959</th>\n",
       "    </tr>\n",
       "    <tr>\n",
       "      <th>Date</th>\n",
       "      <th></th>\n",
       "    </tr>\n",
       "  </thead>\n",
       "  <tbody>\n",
       "    <tr>\n",
       "      <th>1959-12-27</th>\n",
       "      <td>37</td>\n",
       "    </tr>\n",
       "    <tr>\n",
       "      <th>1959-12-28</th>\n",
       "      <td>52</td>\n",
       "    </tr>\n",
       "    <tr>\n",
       "      <th>1959-12-29</th>\n",
       "      <td>48</td>\n",
       "    </tr>\n",
       "    <tr>\n",
       "      <th>1959-12-30</th>\n",
       "      <td>55</td>\n",
       "    </tr>\n",
       "    <tr>\n",
       "      <th>1959-12-31</th>\n",
       "      <td>50</td>\n",
       "    </tr>\n",
       "  </tbody>\n",
       "</table>\n",
       "</div>"
      ],
      "text/plain": [
       "            Daily total female births in California, 1959\n",
       "Date                                                     \n",
       "1959-12-27                                             37\n",
       "1959-12-28                                             52\n",
       "1959-12-29                                             48\n",
       "1959-12-30                                             55\n",
       "1959-12-31                                             50"
      ]
     },
     "execution_count": 136,
     "metadata": {},
     "output_type": "execute_result"
    }
   ],
   "source": [
    "f_birth.tail()"
   ]
  },
  {
   "cell_type": "code",
   "execution_count": 137,
   "id": "0701d8ba",
   "metadata": {},
   "outputs": [],
   "source": [
    "# Normalization\n",
    "# 1. If your data is on different scales\n",
    "# 2. Because algorithms work better when data is mormalized\n",
    "# Normalization = (x-min)/(max-min)"
   ]
  },
  {
   "cell_type": "code",
   "execution_count": 138,
   "id": "7386cd04",
   "metadata": {},
   "outputs": [
    {
     "data": {
      "text/plain": [
       "Daily total female births in California, 1959    23\n",
       "dtype: int64"
      ]
     },
     "execution_count": 138,
     "metadata": {},
     "output_type": "execute_result"
    }
   ],
   "source": [
    "f_birth.min()"
   ]
  },
  {
   "cell_type": "code",
   "execution_count": 139,
   "id": "d810bae6",
   "metadata": {},
   "outputs": [
    {
     "data": {
      "text/plain": [
       "Daily total female births in California, 1959    73\n",
       "dtype: int64"
      ]
     },
     "execution_count": 139,
     "metadata": {},
     "output_type": "execute_result"
    }
   ],
   "source": [
    "f_birth.max()"
   ]
  },
  {
   "cell_type": "code",
   "execution_count": 140,
   "id": "0c9b973e",
   "metadata": {},
   "outputs": [
    {
     "data": {
      "text/plain": [
       "0.28"
      ]
     },
     "execution_count": 140,
     "metadata": {},
     "output_type": "execute_result"
    }
   ],
   "source": [
    "(37-23)/(73-23)"
   ]
  },
  {
   "cell_type": "code",
   "execution_count": 141,
   "id": "e502b57e",
   "metadata": {},
   "outputs": [
    {
     "data": {
      "text/plain": [
       "0.64"
      ]
     },
     "execution_count": 141,
     "metadata": {},
     "output_type": "execute_result"
    }
   ],
   "source": [
    "(55-23)/(73-23)"
   ]
  },
  {
   "cell_type": "code",
   "execution_count": 142,
   "id": "080eb9c6",
   "metadata": {},
   "outputs": [],
   "source": [
    "from sklearn.preprocessing import MinMaxScaler"
   ]
  },
  {
   "cell_type": "code",
   "execution_count": 143,
   "id": "735efde1",
   "metadata": {},
   "outputs": [],
   "source": [
    "birth_arr = f_birth.values"
   ]
  },
  {
   "cell_type": "code",
   "execution_count": 144,
   "id": "285f7172",
   "metadata": {},
   "outputs": [
    {
     "data": {
      "text/plain": [
       "array([[35],\n",
       "       [32],\n",
       "       [30],\n",
       "       [31],\n",
       "       [44],\n",
       "       [29],\n",
       "       [45],\n",
       "       [43],\n",
       "       [38],\n",
       "       [27],\n",
       "       [38],\n",
       "       [33],\n",
       "       [55],\n",
       "       [47],\n",
       "       [45],\n",
       "       [37],\n",
       "       [50],\n",
       "       [43],\n",
       "       [41],\n",
       "       [52],\n",
       "       [34],\n",
       "       [53],\n",
       "       [39],\n",
       "       [32],\n",
       "       [37],\n",
       "       [43],\n",
       "       [39],\n",
       "       [35],\n",
       "       [44],\n",
       "       [38],\n",
       "       [24],\n",
       "       [23],\n",
       "       [31],\n",
       "       [44],\n",
       "       [38],\n",
       "       [50],\n",
       "       [38],\n",
       "       [51],\n",
       "       [31],\n",
       "       [31],\n",
       "       [51],\n",
       "       [36],\n",
       "       [45],\n",
       "       [51],\n",
       "       [34],\n",
       "       [52],\n",
       "       [47],\n",
       "       [45],\n",
       "       [46],\n",
       "       [39],\n",
       "       [48],\n",
       "       [37],\n",
       "       [35],\n",
       "       [52],\n",
       "       [42],\n",
       "       [45],\n",
       "       [39],\n",
       "       [37],\n",
       "       [30],\n",
       "       [35],\n",
       "       [28],\n",
       "       [45],\n",
       "       [34],\n",
       "       [36],\n",
       "       [50],\n",
       "       [44],\n",
       "       [39],\n",
       "       [32],\n",
       "       [39],\n",
       "       [45],\n",
       "       [43],\n",
       "       [39],\n",
       "       [31],\n",
       "       [27],\n",
       "       [30],\n",
       "       [42],\n",
       "       [46],\n",
       "       [41],\n",
       "       [36],\n",
       "       [45],\n",
       "       [46],\n",
       "       [43],\n",
       "       [38],\n",
       "       [34],\n",
       "       [35],\n",
       "       [56],\n",
       "       [36],\n",
       "       [32],\n",
       "       [50],\n",
       "       [41],\n",
       "       [39],\n",
       "       [41],\n",
       "       [47],\n",
       "       [34],\n",
       "       [36],\n",
       "       [33],\n",
       "       [35],\n",
       "       [38],\n",
       "       [38],\n",
       "       [34],\n",
       "       [53],\n",
       "       [34],\n",
       "       [34],\n",
       "       [38],\n",
       "       [35],\n",
       "       [32],\n",
       "       [42],\n",
       "       [34],\n",
       "       [46],\n",
       "       [30],\n",
       "       [46],\n",
       "       [45],\n",
       "       [54],\n",
       "       [34],\n",
       "       [37],\n",
       "       [35],\n",
       "       [40],\n",
       "       [42],\n",
       "       [58],\n",
       "       [51],\n",
       "       [32],\n",
       "       [35],\n",
       "       [38],\n",
       "       [33],\n",
       "       [39],\n",
       "       [47],\n",
       "       [38],\n",
       "       [52],\n",
       "       [30],\n",
       "       [34],\n",
       "       [40],\n",
       "       [35],\n",
       "       [42],\n",
       "       [41],\n",
       "       [42],\n",
       "       [38],\n",
       "       [24],\n",
       "       [34],\n",
       "       [43],\n",
       "       [36],\n",
       "       [55],\n",
       "       [41],\n",
       "       [45],\n",
       "       [41],\n",
       "       [37],\n",
       "       [43],\n",
       "       [39],\n",
       "       [33],\n",
       "       [43],\n",
       "       [40],\n",
       "       [38],\n",
       "       [45],\n",
       "       [46],\n",
       "       [34],\n",
       "       [35],\n",
       "       [48],\n",
       "       [51],\n",
       "       [36],\n",
       "       [33],\n",
       "       [46],\n",
       "       [42],\n",
       "       [48],\n",
       "       [34],\n",
       "       [41],\n",
       "       [35],\n",
       "       [40],\n",
       "       [34],\n",
       "       [30],\n",
       "       [36],\n",
       "       [40],\n",
       "       [39],\n",
       "       [45],\n",
       "       [38],\n",
       "       [47],\n",
       "       [33],\n",
       "       [30],\n",
       "       [42],\n",
       "       [43],\n",
       "       [41],\n",
       "       [41],\n",
       "       [59],\n",
       "       [43],\n",
       "       [45],\n",
       "       [38],\n",
       "       [37],\n",
       "       [45],\n",
       "       [42],\n",
       "       [57],\n",
       "       [46],\n",
       "       [51],\n",
       "       [41],\n",
       "       [47],\n",
       "       [26],\n",
       "       [35],\n",
       "       [44],\n",
       "       [41],\n",
       "       [42],\n",
       "       [36],\n",
       "       [45],\n",
       "       [45],\n",
       "       [45],\n",
       "       [47],\n",
       "       [38],\n",
       "       [42],\n",
       "       [35],\n",
       "       [36],\n",
       "       [39],\n",
       "       [45],\n",
       "       [43],\n",
       "       [47],\n",
       "       [36],\n",
       "       [41],\n",
       "       [50],\n",
       "       [39],\n",
       "       [41],\n",
       "       [46],\n",
       "       [64],\n",
       "       [45],\n",
       "       [34],\n",
       "       [38],\n",
       "       [44],\n",
       "       [48],\n",
       "       [46],\n",
       "       [44],\n",
       "       [37],\n",
       "       [39],\n",
       "       [44],\n",
       "       [45],\n",
       "       [33],\n",
       "       [44],\n",
       "       [38],\n",
       "       [46],\n",
       "       [46],\n",
       "       [40],\n",
       "       [39],\n",
       "       [44],\n",
       "       [48],\n",
       "       [50],\n",
       "       [41],\n",
       "       [42],\n",
       "       [51],\n",
       "       [41],\n",
       "       [44],\n",
       "       [38],\n",
       "       [68],\n",
       "       [40],\n",
       "       [42],\n",
       "       [51],\n",
       "       [44],\n",
       "       [45],\n",
       "       [36],\n",
       "       [57],\n",
       "       [44],\n",
       "       [42],\n",
       "       [53],\n",
       "       [42],\n",
       "       [34],\n",
       "       [40],\n",
       "       [56],\n",
       "       [44],\n",
       "       [53],\n",
       "       [55],\n",
       "       [39],\n",
       "       [59],\n",
       "       [55],\n",
       "       [73],\n",
       "       [55],\n",
       "       [44],\n",
       "       [43],\n",
       "       [40],\n",
       "       [47],\n",
       "       [51],\n",
       "       [56],\n",
       "       [49],\n",
       "       [54],\n",
       "       [56],\n",
       "       [47],\n",
       "       [44],\n",
       "       [43],\n",
       "       [42],\n",
       "       [45],\n",
       "       [50],\n",
       "       [48],\n",
       "       [43],\n",
       "       [40],\n",
       "       [59],\n",
       "       [41],\n",
       "       [42],\n",
       "       [51],\n",
       "       [49],\n",
       "       [45],\n",
       "       [43],\n",
       "       [42],\n",
       "       [38],\n",
       "       [47],\n",
       "       [38],\n",
       "       [36],\n",
       "       [42],\n",
       "       [35],\n",
       "       [28],\n",
       "       [44],\n",
       "       [36],\n",
       "       [45],\n",
       "       [46],\n",
       "       [48],\n",
       "       [49],\n",
       "       [43],\n",
       "       [42],\n",
       "       [59],\n",
       "       [45],\n",
       "       [52],\n",
       "       [46],\n",
       "       [42],\n",
       "       [40],\n",
       "       [40],\n",
       "       [45],\n",
       "       [35],\n",
       "       [35],\n",
       "       [40],\n",
       "       [39],\n",
       "       [33],\n",
       "       [42],\n",
       "       [47],\n",
       "       [51],\n",
       "       [44],\n",
       "       [40],\n",
       "       [57],\n",
       "       [49],\n",
       "       [45],\n",
       "       [49],\n",
       "       [51],\n",
       "       [46],\n",
       "       [44],\n",
       "       [52],\n",
       "       [45],\n",
       "       [32],\n",
       "       [46],\n",
       "       [41],\n",
       "       [34],\n",
       "       [33],\n",
       "       [36],\n",
       "       [49],\n",
       "       [43],\n",
       "       [43],\n",
       "       [34],\n",
       "       [39],\n",
       "       [35],\n",
       "       [52],\n",
       "       [47],\n",
       "       [52],\n",
       "       [39],\n",
       "       [40],\n",
       "       [42],\n",
       "       [42],\n",
       "       [53],\n",
       "       [39],\n",
       "       [40],\n",
       "       [38],\n",
       "       [44],\n",
       "       [34],\n",
       "       [37],\n",
       "       [52],\n",
       "       [48],\n",
       "       [55],\n",
       "       [50]], dtype=int64)"
      ]
     },
     "execution_count": 144,
     "metadata": {},
     "output_type": "execute_result"
    }
   ],
   "source": [
    "birth_arr"
   ]
  },
  {
   "cell_type": "code",
   "execution_count": 145,
   "id": "c7374693",
   "metadata": {},
   "outputs": [],
   "source": [
    "scaler = MinMaxScaler(feature_range=(0,1))"
   ]
  },
  {
   "cell_type": "code",
   "execution_count": 146,
   "id": "4eb158f9",
   "metadata": {},
   "outputs": [],
   "source": [
    "scaler = scaler.fit(birth_arr)"
   ]
  },
  {
   "cell_type": "code",
   "execution_count": 147,
   "id": "da0e18ba",
   "metadata": {},
   "outputs": [
    {
     "data": {
      "text/plain": [
       "array([23.])"
      ]
     },
     "execution_count": 147,
     "metadata": {},
     "output_type": "execute_result"
    }
   ],
   "source": [
    "scaler.data_min_"
   ]
  },
  {
   "cell_type": "code",
   "execution_count": 148,
   "id": "18c80d3e",
   "metadata": {},
   "outputs": [
    {
     "data": {
      "text/plain": [
       "array([73.])"
      ]
     },
     "execution_count": 148,
     "metadata": {},
     "output_type": "execute_result"
    }
   ],
   "source": [
    "scaler.data_max_"
   ]
  },
  {
   "cell_type": "code",
   "execution_count": 149,
   "id": "ad49b132",
   "metadata": {},
   "outputs": [
    {
     "data": {
      "text/plain": [
       "array([50.])"
      ]
     },
     "execution_count": 149,
     "metadata": {},
     "output_type": "execute_result"
    }
   ],
   "source": [
    "scaler.data_range_"
   ]
  },
  {
   "cell_type": "code",
   "execution_count": 150,
   "id": "ebe40e0f",
   "metadata": {},
   "outputs": [],
   "source": [
    "birth_normalize = scaler.transform(birth_arr)"
   ]
  },
  {
   "cell_type": "code",
   "execution_count": 151,
   "id": "4ccb2be9",
   "metadata": {},
   "outputs": [
    {
     "data": {
      "text/plain": [
       "array([0.24])"
      ]
     },
     "execution_count": 151,
     "metadata": {},
     "output_type": "execute_result"
    }
   ],
   "source": [
    "birth_normalize[0]"
   ]
  },
  {
   "cell_type": "code",
   "execution_count": 152,
   "id": "276d8fef",
   "metadata": {},
   "outputs": [
    {
     "data": {
      "text/plain": [
       "array([0.18])"
      ]
     },
     "execution_count": 152,
     "metadata": {},
     "output_type": "execute_result"
    }
   ],
   "source": [
    "birth_normalize[1]"
   ]
  },
  {
   "cell_type": "code",
   "execution_count": 153,
   "id": "b4752b45",
   "metadata": {},
   "outputs": [
    {
     "name": "stdout",
     "output_type": "stream",
     "text": [
      "[0.24]\n",
      "[0.18]\n",
      "[0.14]\n",
      "[0.16]\n",
      "[0.42]\n"
     ]
    }
   ],
   "source": [
    "for i in range(5):\n",
    "    print(birth_normalize[i])"
   ]
  },
  {
   "cell_type": "code",
   "execution_count": 154,
   "id": "75f51a43",
   "metadata": {},
   "outputs": [],
   "source": [
    "birth_train=birth_normalize[0:330]\n",
    "birth_test=birth_normalize[330:365]"
   ]
  },
  {
   "cell_type": "code",
   "execution_count": 155,
   "id": "474e2971",
   "metadata": {},
   "outputs": [
    {
     "data": {
      "text/plain": [
       "330"
      ]
     },
     "execution_count": 155,
     "metadata": {},
     "output_type": "execute_result"
    }
   ],
   "source": [
    "birth_train.size"
   ]
  },
  {
   "cell_type": "code",
   "execution_count": 156,
   "id": "d90e7f40",
   "metadata": {},
   "outputs": [
    {
     "data": {
      "text/plain": [
       "35"
      ]
     },
     "execution_count": 156,
     "metadata": {},
     "output_type": "execute_result"
    }
   ],
   "source": [
    "birth_test.size"
   ]
  },
  {
   "cell_type": "code",
   "execution_count": 157,
   "id": "acab5e5f",
   "metadata": {},
   "outputs": [],
   "source": [
    "from statsmodels.tsa.arima.model import ARIMA"
   ]
  },
  {
   "cell_type": "code",
   "execution_count": 165,
   "id": "c8e9b524",
   "metadata": {},
   "outputs": [],
   "source": [
    " birth_model = ARIMA(birth_train,order=(2,1,2))"
   ]
  },
  {
   "cell_type": "code",
   "execution_count": 166,
   "id": "3137a2ea",
   "metadata": {},
   "outputs": [
    {
     "name": "stderr",
     "output_type": "stream",
     "text": [
      "C:\\Users\\HP\\anaconda3\\Lib\\site-packages\\statsmodels\\tsa\\statespace\\sarimax.py:966: UserWarning: Non-stationary starting autoregressive parameters found. Using zeros as starting parameters.\n",
      "  warn('Non-stationary starting autoregressive parameters'\n",
      "C:\\Users\\HP\\anaconda3\\Lib\\site-packages\\statsmodels\\tsa\\statespace\\sarimax.py:978: UserWarning: Non-invertible starting MA parameters found. Using zeros as starting parameters.\n",
      "  warn('Non-invertible starting MA parameters found.'\n"
     ]
    }
   ],
   "source": [
    "birth_model_fit = birth_model.fit()"
   ]
  },
  {
   "cell_type": "code",
   "execution_count": 167,
   "id": "983ab171",
   "metadata": {},
   "outputs": [
    {
     "data": {
      "text/plain": [
       "-342.6257523195206"
      ]
     },
     "execution_count": 167,
     "metadata": {},
     "output_type": "execute_result"
    }
   ],
   "source": [
    "birth_model_fit.aic"
   ]
  },
  {
   "cell_type": "code",
   "execution_count": 168,
   "id": "585b9883",
   "metadata": {},
   "outputs": [],
   "source": [
    "birth_forecast = birth_model_fit.forecast(steps = 35)"
   ]
  },
  {
   "cell_type": "code",
   "execution_count": 169,
   "id": "278aff6e",
   "metadata": {},
   "outputs": [
    {
     "data": {
      "text/plain": [
       "array([0.44108652, 0.43520536, 0.43157099, 0.43039785, 0.42997574,\n",
       "       0.42982723, 0.42977474, 0.42975621, 0.42974966, 0.42974735,\n",
       "       0.42974653, 0.42974625, 0.42974614, 0.42974611, 0.4297461 ,\n",
       "       0.42974609, 0.42974609, 0.42974609, 0.42974609, 0.42974609,\n",
       "       0.42974609, 0.42974609, 0.42974609, 0.42974609, 0.42974609,\n",
       "       0.42974609, 0.42974609, 0.42974609, 0.42974609, 0.42974609,\n",
       "       0.42974609, 0.42974609, 0.42974609, 0.42974609, 0.42974609])"
      ]
     },
     "execution_count": 169,
     "metadata": {},
     "output_type": "execute_result"
    }
   ],
   "source": [
    "birth_forecast"
   ]
  },
  {
   "cell_type": "code",
   "execution_count": 170,
   "id": "9938a960",
   "metadata": {},
   "outputs": [
    {
     "data": {
      "text/plain": [
       "array([[0.56],\n",
       "       [0.46],\n",
       "       [0.42],\n",
       "       [0.58],\n",
       "       [0.44],\n",
       "       [0.18],\n",
       "       [0.46],\n",
       "       [0.36],\n",
       "       [0.22],\n",
       "       [0.2 ],\n",
       "       [0.26],\n",
       "       [0.52],\n",
       "       [0.4 ],\n",
       "       [0.4 ],\n",
       "       [0.22],\n",
       "       [0.32],\n",
       "       [0.24],\n",
       "       [0.58],\n",
       "       [0.48],\n",
       "       [0.58],\n",
       "       [0.32],\n",
       "       [0.34],\n",
       "       [0.38],\n",
       "       [0.38],\n",
       "       [0.6 ],\n",
       "       [0.32],\n",
       "       [0.34],\n",
       "       [0.3 ],\n",
       "       [0.42],\n",
       "       [0.22],\n",
       "       [0.28],\n",
       "       [0.58],\n",
       "       [0.5 ],\n",
       "       [0.64],\n",
       "       [0.54]])"
      ]
     },
     "execution_count": 170,
     "metadata": {},
     "output_type": "execute_result"
    }
   ],
   "source": [
    "birth_test"
   ]
  },
  {
   "cell_type": "code",
   "execution_count": 84,
   "id": "15ecc011",
   "metadata": {},
   "outputs": [
    {
     "data": {
      "text/plain": [
       "statsmodels.tsa.arima.model.ARIMAResultsWrapper"
      ]
     },
     "execution_count": 84,
     "metadata": {},
     "output_type": "execute_result"
    }
   ],
   "source": [
    "type(birth_model_fit)"
   ]
  },
  {
   "cell_type": "code",
   "execution_count": 162,
   "id": "18f5019c",
   "metadata": {},
   "outputs": [
    {
     "data": {
      "text/plain": [
       "pandas.core.frame.DataFrame"
      ]
     },
     "execution_count": 162,
     "metadata": {},
     "output_type": "execute_result"
    }
   ],
   "source": [
    "type(f_birth)"
   ]
  },
  {
   "cell_type": "code",
   "execution_count": 171,
   "id": "1f638e88",
   "metadata": {},
   "outputs": [],
   "source": [
    "from sklearn.metrics import mean_squared_error\n",
    "import numpy as np"
   ]
  },
  {
   "cell_type": "code",
   "execution_count": 173,
   "id": "cde9352f",
   "metadata": {},
   "outputs": [
    {
     "data": {
      "text/plain": [
       "0.13332499482935012"
      ]
     },
     "execution_count": 173,
     "metadata": {},
     "output_type": "execute_result"
    }
   ],
   "source": [
    "np.sqrt(mean_squared_error(birth_test,birth_forecast))"
   ]
  },
  {
   "cell_type": "code",
   "execution_count": 174,
   "id": "a92c977c",
   "metadata": {},
   "outputs": [],
   "source": [
    "birth_forecast_reshape = birth_forecast.reshape(len(birth_forecast),1)"
   ]
  },
  {
   "cell_type": "code",
   "execution_count": 175,
   "id": "7993b270",
   "metadata": {},
   "outputs": [],
   "source": [
    "birth_forecast_reverse = scaler.inverse_transform(birth_forecast_reshape)"
   ]
  },
  {
   "cell_type": "code",
   "execution_count": 176,
   "id": "e3e9de40",
   "metadata": {},
   "outputs": [
    {
     "data": {
      "text/plain": [
       "array([[45.05432614],\n",
       "       [44.76026814],\n",
       "       [44.57854952],\n",
       "       [44.51989228],\n",
       "       [44.4987869 ],\n",
       "       [44.49136128],\n",
       "       [44.48873698],\n",
       "       [44.48781035],\n",
       "       [44.48748311],\n",
       "       [44.48736754],\n",
       "       [44.48732673],\n",
       "       [44.48731232],\n",
       "       [44.48730723],\n",
       "       [44.48730543],\n",
       "       [44.4873048 ],\n",
       "       [44.48730457],\n",
       "       [44.48730449],\n",
       "       [44.48730447],\n",
       "       [44.48730446],\n",
       "       [44.48730445],\n",
       "       [44.48730445],\n",
       "       [44.48730445],\n",
       "       [44.48730445],\n",
       "       [44.48730445],\n",
       "       [44.48730445],\n",
       "       [44.48730445],\n",
       "       [44.48730445],\n",
       "       [44.48730445],\n",
       "       [44.48730445],\n",
       "       [44.48730445],\n",
       "       [44.48730445],\n",
       "       [44.48730445],\n",
       "       [44.48730445],\n",
       "       [44.48730445],\n",
       "       [44.48730445]])"
      ]
     },
     "execution_count": 176,
     "metadata": {},
     "output_type": "execute_result"
    }
   ],
   "source": [
    "birth_forecast_reverse"
   ]
  },
  {
   "cell_type": "code",
   "execution_count": 177,
   "id": "afbca852",
   "metadata": {},
   "outputs": [],
   "source": [
    "birth_test_reshape = birth_test.reshape(len(birth_test),1)"
   ]
  },
  {
   "cell_type": "code",
   "execution_count": 178,
   "id": "1ca8c29d",
   "metadata": {},
   "outputs": [],
   "source": [
    "birth_test_reverse = scaler.inverse_transform(birth_test_reshape)"
   ]
  },
  {
   "cell_type": "code",
   "execution_count": 181,
   "id": "20c346bc",
   "metadata": {},
   "outputs": [
    {
     "data": {
      "text/plain": [
       "6.666249741467505"
      ]
     },
     "execution_count": 181,
     "metadata": {},
     "output_type": "execute_result"
    }
   ],
   "source": [
    "np.sqrt(mean_squared_error(birth_test_reverse,birth_forecast_reverse))"
   ]
  },
  {
   "cell_type": "markdown",
   "id": "01d5517e",
   "metadata": {},
   "source": [
    "## Standardization\n",
    "\n",
    "Standardization = (x-mean)/standard deviation"
   ]
  },
  {
   "cell_type": "code",
   "execution_count": 182,
   "id": "5261a84e",
   "metadata": {},
   "outputs": [],
   "source": [
    "from sklearn.preprocessing import StandardScaler"
   ]
  },
  {
   "cell_type": "code",
   "execution_count": 184,
   "id": "fed0a56b",
   "metadata": {},
   "outputs": [],
   "source": [
    "std_scalar = StandardScaler()\n",
    "std_scalar = std_scalar.fit(birth_arr)"
   ]
  },
  {
   "cell_type": "code",
   "execution_count": 185,
   "id": "efeef92e",
   "metadata": {},
   "outputs": [
    {
     "data": {
      "text/plain": [
       "array([41.98082192])"
      ]
     },
     "execution_count": 185,
     "metadata": {},
     "output_type": "execute_result"
    }
   ],
   "source": [
    "std_scalar.mean_"
   ]
  },
  {
   "cell_type": "code",
   "execution_count": 186,
   "id": "1daff4ef",
   "metadata": {},
   "outputs": [
    {
     "data": {
      "text/plain": [
       "array([53.84894727])"
      ]
     },
     "execution_count": 186,
     "metadata": {},
     "output_type": "execute_result"
    }
   ],
   "source": [
    "std_scalar.var_"
   ]
  },
  {
   "cell_type": "code",
   "execution_count": 187,
   "id": "4f24eff2",
   "metadata": {},
   "outputs": [],
   "source": [
    "std_birth = std_scalar.transform(birth_arr)"
   ]
  },
  {
   "cell_type": "code",
   "execution_count": 188,
   "id": "ebf803ee",
   "metadata": {},
   "outputs": [
    {
     "data": {
      "text/plain": [
       "array([-0.95130099])"
      ]
     },
     "execution_count": 188,
     "metadata": {},
     "output_type": "execute_result"
    }
   ],
   "source": [
    "std_birth[0]"
   ]
  },
  {
   "cell_type": "code",
   "execution_count": 189,
   "id": "88e4a524",
   "metadata": {},
   "outputs": [
    {
     "data": {
      "text/plain": [
       "array([-1.76894196])"
      ]
     },
     "execution_count": 189,
     "metadata": {},
     "output_type": "execute_result"
    }
   ],
   "source": [
    "std_birth[5]"
   ]
  },
  {
   "cell_type": "code",
   "execution_count": 190,
   "id": "2b5b45fe",
   "metadata": {},
   "outputs": [],
   "source": [
    "std_birth_train = std_birth[0:330]\n",
    "std_birth_test = std_birth[330:365]"
   ]
  },
  {
   "cell_type": "code",
   "execution_count": 191,
   "id": "c2582b09",
   "metadata": {},
   "outputs": [],
   "source": [
    "std_birth_arima = ARIMA(std_birth_train,order=(2,1,2))"
   ]
  },
  {
   "cell_type": "code",
   "execution_count": 192,
   "id": "a224d961",
   "metadata": {},
   "outputs": [
    {
     "name": "stderr",
     "output_type": "stream",
     "text": [
      "C:\\Users\\HP\\anaconda3\\Lib\\site-packages\\statsmodels\\tsa\\statespace\\sarimax.py:966: UserWarning: Non-stationary starting autoregressive parameters found. Using zeros as starting parameters.\n",
      "  warn('Non-stationary starting autoregressive parameters'\n",
      "C:\\Users\\HP\\anaconda3\\Lib\\site-packages\\statsmodels\\tsa\\statespace\\sarimax.py:978: UserWarning: Non-invertible starting MA parameters found. Using zeros as starting parameters.\n",
      "  warn('Non-invertible starting MA parameters found.'\n"
     ]
    }
   ],
   "source": [
    "std_birth_arima_fit = std_birth_arima.fit()"
   ]
  },
  {
   "cell_type": "code",
   "execution_count": 193,
   "id": "da9b443e",
   "metadata": {},
   "outputs": [
    {
     "data": {
      "text/plain": [
       "920.031242794297"
      ]
     },
     "execution_count": 193,
     "metadata": {},
     "output_type": "execute_result"
    }
   ],
   "source": [
    "std_birth_arima_fit.aic"
   ]
  },
  {
   "cell_type": "code",
   "execution_count": 197,
   "id": "070fe817",
   "metadata": {},
   "outputs": [],
   "source": [
    "std_birth_forecast = std_birth_arima_fit.forecast(steps=35)"
   ]
  },
  {
   "cell_type": "code",
   "execution_count": 198,
   "id": "af51256c",
   "metadata": {},
   "outputs": [
    {
     "data": {
      "text/plain": [
       "array([0.41877206, 0.37872501, 0.3539594 , 0.34598288, 0.34311606,\n",
       "       0.34210889, 0.34175344, 0.34162811, 0.34158391, 0.34156832,\n",
       "       0.34156282, 0.34156088, 0.3415602 , 0.34155996, 0.34155987,\n",
       "       0.34155984, 0.34155983, 0.34155983, 0.34155983, 0.34155983,\n",
       "       0.34155983, 0.34155983, 0.34155983, 0.34155983, 0.34155983,\n",
       "       0.34155983, 0.34155983, 0.34155983, 0.34155983, 0.34155983,\n",
       "       0.34155983, 0.34155983, 0.34155983, 0.34155983, 0.34155983])"
      ]
     },
     "execution_count": 198,
     "metadata": {},
     "output_type": "execute_result"
    }
   ],
   "source": [
    "std_birth_forecast"
   ]
  },
  {
   "cell_type": "code",
   "execution_count": 199,
   "id": "668b9ae2",
   "metadata": {},
   "outputs": [
    {
     "data": {
      "text/plain": [
       "array([[ 1.22907491],\n",
       "       [ 0.54770744],\n",
       "       [ 0.27516045],\n",
       "       [ 1.3653484 ],\n",
       "       [ 0.41143395],\n",
       "       [-1.36012148],\n",
       "       [ 0.54770744],\n",
       "       [-0.13366003],\n",
       "       [-1.08757449],\n",
       "       [-1.22384798],\n",
       "       [-0.8150275 ],\n",
       "       [ 0.95652792],\n",
       "       [ 0.13888696],\n",
       "       [ 0.13888696],\n",
       "       [-1.08757449],\n",
       "       [-0.40620702],\n",
       "       [-0.95130099],\n",
       "       [ 1.3653484 ],\n",
       "       [ 0.68398093],\n",
       "       [ 1.3653484 ],\n",
       "       [-0.40620702],\n",
       "       [-0.26993352],\n",
       "       [ 0.00261346],\n",
       "       [ 0.00261346],\n",
       "       [ 1.5016219 ],\n",
       "       [-0.40620702],\n",
       "       [-0.26993352],\n",
       "       [-0.54248051],\n",
       "       [ 0.27516045],\n",
       "       [-1.08757449],\n",
       "       [-0.67875401],\n",
       "       [ 1.3653484 ],\n",
       "       [ 0.82025443],\n",
       "       [ 1.77416889],\n",
       "       [ 1.09280142]])"
      ]
     },
     "execution_count": 199,
     "metadata": {},
     "output_type": "execute_result"
    }
   ],
   "source": [
    "std_birth_test"
   ]
  },
  {
   "cell_type": "code",
   "execution_count": 200,
   "id": "a7109f5f",
   "metadata": {},
   "outputs": [],
   "source": [
    "birth_forecast_reshape = std_birth_forecast.reshape(len(std_birth_forecast),1)"
   ]
  },
  {
   "cell_type": "code",
   "execution_count": 201,
   "id": "36d2f67d",
   "metadata": {},
   "outputs": [],
   "source": [
    "std_birth_forecast_rev = std_scalar.inverse_transform(birth_forecast_reshape)"
   ]
  },
  {
   "cell_type": "code",
   "execution_count": 202,
   "id": "142e8ddc",
   "metadata": {},
   "outputs": [
    {
     "data": {
      "text/plain": [
       "array([[45.05384841],\n",
       "       [44.75997577],\n",
       "       [44.57824123],\n",
       "       [44.51970805],\n",
       "       [44.49867077],\n",
       "       [44.49128   ],\n",
       "       [44.48867161],\n",
       "       [44.4877519 ],\n",
       "       [44.48742754],\n",
       "       [44.48731316],\n",
       "       [44.48727282],\n",
       "       [44.4872586 ],\n",
       "       [44.48725358],\n",
       "       [44.48725181],\n",
       "       [44.48725119],\n",
       "       [44.48725097],\n",
       "       [44.48725089],\n",
       "       [44.48725086],\n",
       "       [44.48725085],\n",
       "       [44.48725085],\n",
       "       [44.48725085],\n",
       "       [44.48725085],\n",
       "       [44.48725085],\n",
       "       [44.48725085],\n",
       "       [44.48725085],\n",
       "       [44.48725085],\n",
       "       [44.48725085],\n",
       "       [44.48725085],\n",
       "       [44.48725085],\n",
       "       [44.48725085],\n",
       "       [44.48725085],\n",
       "       [44.48725085],\n",
       "       [44.48725085],\n",
       "       [44.48725085],\n",
       "       [44.48725085]])"
      ]
     },
     "execution_count": 202,
     "metadata": {},
     "output_type": "execute_result"
    }
   ],
   "source": [
    "std_birth_forecast_rev"
   ]
  },
  {
   "cell_type": "code",
   "execution_count": 204,
   "id": "c19820d8",
   "metadata": {},
   "outputs": [],
   "source": [
    "birth_test_reshape = std_birth_test.reshape(len(std_birth_test),1)"
   ]
  },
  {
   "cell_type": "code",
   "execution_count": 206,
   "id": "53a112b4",
   "metadata": {},
   "outputs": [],
   "source": [
    "birth_test_rev = std_scalar.inverse_transform(birth_test_reshape)"
   ]
  },
  {
   "cell_type": "code",
   "execution_count": 207,
   "id": "5af25ddc",
   "metadata": {},
   "outputs": [
    {
     "data": {
      "text/plain": [
       "array([[51.],\n",
       "       [46.],\n",
       "       [44.],\n",
       "       [52.],\n",
       "       [45.],\n",
       "       [32.],\n",
       "       [46.],\n",
       "       [41.],\n",
       "       [34.],\n",
       "       [33.],\n",
       "       [36.],\n",
       "       [49.],\n",
       "       [43.],\n",
       "       [43.],\n",
       "       [34.],\n",
       "       [39.],\n",
       "       [35.],\n",
       "       [52.],\n",
       "       [47.],\n",
       "       [52.],\n",
       "       [39.],\n",
       "       [40.],\n",
       "       [42.],\n",
       "       [42.],\n",
       "       [53.],\n",
       "       [39.],\n",
       "       [40.],\n",
       "       [38.],\n",
       "       [44.],\n",
       "       [34.],\n",
       "       [37.],\n",
       "       [52.],\n",
       "       [48.],\n",
       "       [55.],\n",
       "       [50.]])"
      ]
     },
     "execution_count": 207,
     "metadata": {},
     "output_type": "execute_result"
    }
   ],
   "source": [
    "birth_test_rev"
   ]
  },
  {
   "cell_type": "code",
   "execution_count": 208,
   "id": "0f3b5dde",
   "metadata": {},
   "outputs": [
    {
     "data": {
      "text/plain": [
       "6.666249741467505"
      ]
     },
     "execution_count": 208,
     "metadata": {},
     "output_type": "execute_result"
    }
   ],
   "source": [
    "np.sqrt(mean_squared_error(birth_test_rev,birth_forecast_reverse))"
   ]
  },
  {
   "cell_type": "code",
   "execution_count": 209,
   "id": "1a79bc24",
   "metadata": {},
   "outputs": [],
   "source": [
    "import pandas as pd\n",
    "import matplotlib.pyplot as plt\n",
    "%matplotlib inline"
   ]
  },
  {
   "cell_type": "code",
   "execution_count": 210,
   "id": "604f2ed5",
   "metadata": {},
   "outputs": [],
   "source": [
    "f_birth = pd.read_csv('daily-total-female-births-in-cal.csv',index_col=[0], parse_dates = [0], nrows=365)"
   ]
  },
  {
   "cell_type": "code",
   "execution_count": 211,
   "id": "bbe35239",
   "metadata": {},
   "outputs": [
    {
     "data": {
      "text/html": [
       "<div>\n",
       "<style scoped>\n",
       "    .dataframe tbody tr th:only-of-type {\n",
       "        vertical-align: middle;\n",
       "    }\n",
       "\n",
       "    .dataframe tbody tr th {\n",
       "        vertical-align: top;\n",
       "    }\n",
       "\n",
       "    .dataframe thead th {\n",
       "        text-align: right;\n",
       "    }\n",
       "</style>\n",
       "<table border=\"1\" class=\"dataframe\">\n",
       "  <thead>\n",
       "    <tr style=\"text-align: right;\">\n",
       "      <th></th>\n",
       "      <th>Daily total female births in California, 1959</th>\n",
       "    </tr>\n",
       "    <tr>\n",
       "      <th>Date</th>\n",
       "      <th></th>\n",
       "    </tr>\n",
       "  </thead>\n",
       "  <tbody>\n",
       "    <tr>\n",
       "      <th>1959-12-27</th>\n",
       "      <td>37</td>\n",
       "    </tr>\n",
       "    <tr>\n",
       "      <th>1959-12-28</th>\n",
       "      <td>52</td>\n",
       "    </tr>\n",
       "    <tr>\n",
       "      <th>1959-12-29</th>\n",
       "      <td>48</td>\n",
       "    </tr>\n",
       "    <tr>\n",
       "      <th>1959-12-30</th>\n",
       "      <td>55</td>\n",
       "    </tr>\n",
       "    <tr>\n",
       "      <th>1959-12-31</th>\n",
       "      <td>50</td>\n",
       "    </tr>\n",
       "  </tbody>\n",
       "</table>\n",
       "</div>"
      ],
      "text/plain": [
       "            Daily total female births in California, 1959\n",
       "Date                                                     \n",
       "1959-12-27                                             37\n",
       "1959-12-28                                             52\n",
       "1959-12-29                                             48\n",
       "1959-12-30                                             55\n",
       "1959-12-31                                             50"
      ]
     },
     "execution_count": 211,
     "metadata": {},
     "output_type": "execute_result"
    }
   ],
   "source": [
    "f_birth.tail()"
   ]
  },
  {
   "cell_type": "code",
   "execution_count": 212,
   "id": "f7423a83",
   "metadata": {},
   "outputs": [],
   "source": [
    "f_birth['lag1'] = f_birth['Daily total female births in California, 1959'].shift(1)"
   ]
  },
  {
   "cell_type": "code",
   "execution_count": 213,
   "id": "7818da88",
   "metadata": {},
   "outputs": [
    {
     "data": {
      "text/html": [
       "<div>\n",
       "<style scoped>\n",
       "    .dataframe tbody tr th:only-of-type {\n",
       "        vertical-align: middle;\n",
       "    }\n",
       "\n",
       "    .dataframe tbody tr th {\n",
       "        vertical-align: top;\n",
       "    }\n",
       "\n",
       "    .dataframe thead th {\n",
       "        text-align: right;\n",
       "    }\n",
       "</style>\n",
       "<table border=\"1\" class=\"dataframe\">\n",
       "  <thead>\n",
       "    <tr style=\"text-align: right;\">\n",
       "      <th></th>\n",
       "      <th>Daily total female births in California, 1959</th>\n",
       "      <th>lag1</th>\n",
       "    </tr>\n",
       "    <tr>\n",
       "      <th>Date</th>\n",
       "      <th></th>\n",
       "      <th></th>\n",
       "    </tr>\n",
       "  </thead>\n",
       "  <tbody>\n",
       "    <tr>\n",
       "      <th>1959-01-01</th>\n",
       "      <td>35</td>\n",
       "      <td>NaN</td>\n",
       "    </tr>\n",
       "    <tr>\n",
       "      <th>1959-01-02</th>\n",
       "      <td>32</td>\n",
       "      <td>35.0</td>\n",
       "    </tr>\n",
       "    <tr>\n",
       "      <th>1959-01-03</th>\n",
       "      <td>30</td>\n",
       "      <td>32.0</td>\n",
       "    </tr>\n",
       "    <tr>\n",
       "      <th>1959-01-04</th>\n",
       "      <td>31</td>\n",
       "      <td>30.0</td>\n",
       "    </tr>\n",
       "    <tr>\n",
       "      <th>1959-01-05</th>\n",
       "      <td>44</td>\n",
       "      <td>31.0</td>\n",
       "    </tr>\n",
       "  </tbody>\n",
       "</table>\n",
       "</div>"
      ],
      "text/plain": [
       "            Daily total female births in California, 1959  lag1\n",
       "Date                                                           \n",
       "1959-01-01                                             35   NaN\n",
       "1959-01-02                                             32  35.0\n",
       "1959-01-03                                             30  32.0\n",
       "1959-01-04                                             31  30.0\n",
       "1959-01-05                                             44  31.0"
      ]
     },
     "execution_count": 213,
     "metadata": {},
     "output_type": "execute_result"
    }
   ],
   "source": [
    "f_birth.head()"
   ]
  },
  {
   "cell_type": "code",
   "execution_count": 214,
   "id": "b9f7d933",
   "metadata": {},
   "outputs": [],
   "source": [
    "f_birth['lag2'] =  f_birth['Daily total female births in California, 1959'].shift(2)"
   ]
  },
  {
   "cell_type": "code",
   "execution_count": 215,
   "id": "c6e2f899",
   "metadata": {},
   "outputs": [
    {
     "data": {
      "text/html": [
       "<div>\n",
       "<style scoped>\n",
       "    .dataframe tbody tr th:only-of-type {\n",
       "        vertical-align: middle;\n",
       "    }\n",
       "\n",
       "    .dataframe tbody tr th {\n",
       "        vertical-align: top;\n",
       "    }\n",
       "\n",
       "    .dataframe thead th {\n",
       "        text-align: right;\n",
       "    }\n",
       "</style>\n",
       "<table border=\"1\" class=\"dataframe\">\n",
       "  <thead>\n",
       "    <tr style=\"text-align: right;\">\n",
       "      <th></th>\n",
       "      <th>Daily total female births in California, 1959</th>\n",
       "      <th>lag1</th>\n",
       "      <th>lag2</th>\n",
       "    </tr>\n",
       "    <tr>\n",
       "      <th>Date</th>\n",
       "      <th></th>\n",
       "      <th></th>\n",
       "      <th></th>\n",
       "    </tr>\n",
       "  </thead>\n",
       "  <tbody>\n",
       "    <tr>\n",
       "      <th>1959-01-01</th>\n",
       "      <td>35</td>\n",
       "      <td>NaN</td>\n",
       "      <td>NaN</td>\n",
       "    </tr>\n",
       "    <tr>\n",
       "      <th>1959-01-02</th>\n",
       "      <td>32</td>\n",
       "      <td>35.0</td>\n",
       "      <td>NaN</td>\n",
       "    </tr>\n",
       "    <tr>\n",
       "      <th>1959-01-03</th>\n",
       "      <td>30</td>\n",
       "      <td>32.0</td>\n",
       "      <td>35.0</td>\n",
       "    </tr>\n",
       "    <tr>\n",
       "      <th>1959-01-04</th>\n",
       "      <td>31</td>\n",
       "      <td>30.0</td>\n",
       "      <td>32.0</td>\n",
       "    </tr>\n",
       "    <tr>\n",
       "      <th>1959-01-05</th>\n",
       "      <td>44</td>\n",
       "      <td>31.0</td>\n",
       "      <td>30.0</td>\n",
       "    </tr>\n",
       "  </tbody>\n",
       "</table>\n",
       "</div>"
      ],
      "text/plain": [
       "            Daily total female births in California, 1959  lag1  lag2\n",
       "Date                                                                 \n",
       "1959-01-01                                             35   NaN   NaN\n",
       "1959-01-02                                             32  35.0   NaN\n",
       "1959-01-03                                             30  32.0  35.0\n",
       "1959-01-04                                             31  30.0  32.0\n",
       "1959-01-05                                             44  31.0  30.0"
      ]
     },
     "execution_count": 215,
     "metadata": {},
     "output_type": "execute_result"
    }
   ],
   "source": [
    "f_birth.head()"
   ]
  },
  {
   "cell_type": "code",
   "execution_count": 216,
   "id": "f2955770",
   "metadata": {},
   "outputs": [],
   "source": [
    "f_birth['lag3'] =  f_birth['Daily total female births in California, 1959'].shift(3)"
   ]
  },
  {
   "cell_type": "code",
   "execution_count": 217,
   "id": "ecf734ca",
   "metadata": {},
   "outputs": [
    {
     "data": {
      "text/html": [
       "<div>\n",
       "<style scoped>\n",
       "    .dataframe tbody tr th:only-of-type {\n",
       "        vertical-align: middle;\n",
       "    }\n",
       "\n",
       "    .dataframe tbody tr th {\n",
       "        vertical-align: top;\n",
       "    }\n",
       "\n",
       "    .dataframe thead th {\n",
       "        text-align: right;\n",
       "    }\n",
       "</style>\n",
       "<table border=\"1\" class=\"dataframe\">\n",
       "  <thead>\n",
       "    <tr style=\"text-align: right;\">\n",
       "      <th></th>\n",
       "      <th>Daily total female births in California, 1959</th>\n",
       "      <th>lag1</th>\n",
       "      <th>lag2</th>\n",
       "      <th>lag3</th>\n",
       "    </tr>\n",
       "    <tr>\n",
       "      <th>Date</th>\n",
       "      <th></th>\n",
       "      <th></th>\n",
       "      <th></th>\n",
       "      <th></th>\n",
       "    </tr>\n",
       "  </thead>\n",
       "  <tbody>\n",
       "    <tr>\n",
       "      <th>1959-01-01</th>\n",
       "      <td>35</td>\n",
       "      <td>NaN</td>\n",
       "      <td>NaN</td>\n",
       "      <td>NaN</td>\n",
       "    </tr>\n",
       "    <tr>\n",
       "      <th>1959-01-02</th>\n",
       "      <td>32</td>\n",
       "      <td>35.0</td>\n",
       "      <td>NaN</td>\n",
       "      <td>NaN</td>\n",
       "    </tr>\n",
       "    <tr>\n",
       "      <th>1959-01-03</th>\n",
       "      <td>30</td>\n",
       "      <td>32.0</td>\n",
       "      <td>35.0</td>\n",
       "      <td>NaN</td>\n",
       "    </tr>\n",
       "    <tr>\n",
       "      <th>1959-01-04</th>\n",
       "      <td>31</td>\n",
       "      <td>30.0</td>\n",
       "      <td>32.0</td>\n",
       "      <td>35.0</td>\n",
       "    </tr>\n",
       "    <tr>\n",
       "      <th>1959-01-05</th>\n",
       "      <td>44</td>\n",
       "      <td>31.0</td>\n",
       "      <td>30.0</td>\n",
       "      <td>32.0</td>\n",
       "    </tr>\n",
       "  </tbody>\n",
       "</table>\n",
       "</div>"
      ],
      "text/plain": [
       "            Daily total female births in California, 1959  lag1  lag2  lag3\n",
       "Date                                                                       \n",
       "1959-01-01                                             35   NaN   NaN   NaN\n",
       "1959-01-02                                             32  35.0   NaN   NaN\n",
       "1959-01-03                                             30  32.0  35.0   NaN\n",
       "1959-01-04                                             31  30.0  32.0  35.0\n",
       "1959-01-05                                             44  31.0  30.0  32.0"
      ]
     },
     "execution_count": 217,
     "metadata": {},
     "output_type": "execute_result"
    }
   ],
   "source": [
    "f_birth.head()"
   ]
  },
  {
   "cell_type": "code",
   "execution_count": 218,
   "id": "6487c5d0",
   "metadata": {},
   "outputs": [],
   "source": [
    "f_birth['MA3'] = f_birth['Daily total female births in California, 1959'].rolling(window=3).mean()"
   ]
  },
  {
   "cell_type": "code",
   "execution_count": 219,
   "id": "3c4fa726",
   "metadata": {},
   "outputs": [
    {
     "data": {
      "text/html": [
       "<div>\n",
       "<style scoped>\n",
       "    .dataframe tbody tr th:only-of-type {\n",
       "        vertical-align: middle;\n",
       "    }\n",
       "\n",
       "    .dataframe tbody tr th {\n",
       "        vertical-align: top;\n",
       "    }\n",
       "\n",
       "    .dataframe thead th {\n",
       "        text-align: right;\n",
       "    }\n",
       "</style>\n",
       "<table border=\"1\" class=\"dataframe\">\n",
       "  <thead>\n",
       "    <tr style=\"text-align: right;\">\n",
       "      <th></th>\n",
       "      <th>Daily total female births in California, 1959</th>\n",
       "      <th>lag1</th>\n",
       "      <th>lag2</th>\n",
       "      <th>lag3</th>\n",
       "      <th>MA3</th>\n",
       "    </tr>\n",
       "    <tr>\n",
       "      <th>Date</th>\n",
       "      <th></th>\n",
       "      <th></th>\n",
       "      <th></th>\n",
       "      <th></th>\n",
       "      <th></th>\n",
       "    </tr>\n",
       "  </thead>\n",
       "  <tbody>\n",
       "    <tr>\n",
       "      <th>1959-01-01</th>\n",
       "      <td>35</td>\n",
       "      <td>NaN</td>\n",
       "      <td>NaN</td>\n",
       "      <td>NaN</td>\n",
       "      <td>NaN</td>\n",
       "    </tr>\n",
       "    <tr>\n",
       "      <th>1959-01-02</th>\n",
       "      <td>32</td>\n",
       "      <td>35.0</td>\n",
       "      <td>NaN</td>\n",
       "      <td>NaN</td>\n",
       "      <td>NaN</td>\n",
       "    </tr>\n",
       "    <tr>\n",
       "      <th>1959-01-03</th>\n",
       "      <td>30</td>\n",
       "      <td>32.0</td>\n",
       "      <td>35.0</td>\n",
       "      <td>NaN</td>\n",
       "      <td>32.333333</td>\n",
       "    </tr>\n",
       "    <tr>\n",
       "      <th>1959-01-04</th>\n",
       "      <td>31</td>\n",
       "      <td>30.0</td>\n",
       "      <td>32.0</td>\n",
       "      <td>35.0</td>\n",
       "      <td>31.000000</td>\n",
       "    </tr>\n",
       "    <tr>\n",
       "      <th>1959-01-05</th>\n",
       "      <td>44</td>\n",
       "      <td>31.0</td>\n",
       "      <td>30.0</td>\n",
       "      <td>32.0</td>\n",
       "      <td>35.000000</td>\n",
       "    </tr>\n",
       "  </tbody>\n",
       "</table>\n",
       "</div>"
      ],
      "text/plain": [
       "            Daily total female births in California, 1959  lag1  lag2  lag3  \\\n",
       "Date                                                                          \n",
       "1959-01-01                                             35   NaN   NaN   NaN   \n",
       "1959-01-02                                             32  35.0   NaN   NaN   \n",
       "1959-01-03                                             30  32.0  35.0   NaN   \n",
       "1959-01-04                                             31  30.0  32.0  35.0   \n",
       "1959-01-05                                             44  31.0  30.0  32.0   \n",
       "\n",
       "                  MA3  \n",
       "Date                   \n",
       "1959-01-01        NaN  \n",
       "1959-01-02        NaN  \n",
       "1959-01-03  32.333333  \n",
       "1959-01-04  31.000000  \n",
       "1959-01-05  35.000000  "
      ]
     },
     "execution_count": 219,
     "metadata": {},
     "output_type": "execute_result"
    }
   ],
   "source": [
    "f_birth.head()"
   ]
  },
  {
   "cell_type": "code",
   "execution_count": 220,
   "id": "82b84c37",
   "metadata": {},
   "outputs": [],
   "source": [
    "f_birth['MA4'] = f_birth['Daily total female births in California, 1959'].rolling(window=4).mean()"
   ]
  },
  {
   "cell_type": "code",
   "execution_count": 221,
   "id": "4a3c0e1a",
   "metadata": {},
   "outputs": [],
   "source": [
    "f_birth['MA5'] = f_birth['Daily total female births in California, 1959'].rolling(window=5).mean()"
   ]
  },
  {
   "cell_type": "code",
   "execution_count": 222,
   "id": "49089a51",
   "metadata": {},
   "outputs": [
    {
     "data": {
      "text/html": [
       "<div>\n",
       "<style scoped>\n",
       "    .dataframe tbody tr th:only-of-type {\n",
       "        vertical-align: middle;\n",
       "    }\n",
       "\n",
       "    .dataframe tbody tr th {\n",
       "        vertical-align: top;\n",
       "    }\n",
       "\n",
       "    .dataframe thead th {\n",
       "        text-align: right;\n",
       "    }\n",
       "</style>\n",
       "<table border=\"1\" class=\"dataframe\">\n",
       "  <thead>\n",
       "    <tr style=\"text-align: right;\">\n",
       "      <th></th>\n",
       "      <th>Daily total female births in California, 1959</th>\n",
       "      <th>lag1</th>\n",
       "      <th>lag2</th>\n",
       "      <th>lag3</th>\n",
       "      <th>MA3</th>\n",
       "      <th>MA4</th>\n",
       "      <th>MA5</th>\n",
       "    </tr>\n",
       "    <tr>\n",
       "      <th>Date</th>\n",
       "      <th></th>\n",
       "      <th></th>\n",
       "      <th></th>\n",
       "      <th></th>\n",
       "      <th></th>\n",
       "      <th></th>\n",
       "      <th></th>\n",
       "    </tr>\n",
       "  </thead>\n",
       "  <tbody>\n",
       "    <tr>\n",
       "      <th>1959-01-01</th>\n",
       "      <td>35</td>\n",
       "      <td>NaN</td>\n",
       "      <td>NaN</td>\n",
       "      <td>NaN</td>\n",
       "      <td>NaN</td>\n",
       "      <td>NaN</td>\n",
       "      <td>NaN</td>\n",
       "    </tr>\n",
       "    <tr>\n",
       "      <th>1959-01-02</th>\n",
       "      <td>32</td>\n",
       "      <td>35.0</td>\n",
       "      <td>NaN</td>\n",
       "      <td>NaN</td>\n",
       "      <td>NaN</td>\n",
       "      <td>NaN</td>\n",
       "      <td>NaN</td>\n",
       "    </tr>\n",
       "    <tr>\n",
       "      <th>1959-01-03</th>\n",
       "      <td>30</td>\n",
       "      <td>32.0</td>\n",
       "      <td>35.0</td>\n",
       "      <td>NaN</td>\n",
       "      <td>32.333333</td>\n",
       "      <td>NaN</td>\n",
       "      <td>NaN</td>\n",
       "    </tr>\n",
       "    <tr>\n",
       "      <th>1959-01-04</th>\n",
       "      <td>31</td>\n",
       "      <td>30.0</td>\n",
       "      <td>32.0</td>\n",
       "      <td>35.0</td>\n",
       "      <td>31.000000</td>\n",
       "      <td>32.00</td>\n",
       "      <td>NaN</td>\n",
       "    </tr>\n",
       "    <tr>\n",
       "      <th>1959-01-05</th>\n",
       "      <td>44</td>\n",
       "      <td>31.0</td>\n",
       "      <td>30.0</td>\n",
       "      <td>32.0</td>\n",
       "      <td>35.000000</td>\n",
       "      <td>34.25</td>\n",
       "      <td>34.4</td>\n",
       "    </tr>\n",
       "  </tbody>\n",
       "</table>\n",
       "</div>"
      ],
      "text/plain": [
       "            Daily total female births in California, 1959  lag1  lag2  lag3  \\\n",
       "Date                                                                          \n",
       "1959-01-01                                             35   NaN   NaN   NaN   \n",
       "1959-01-02                                             32  35.0   NaN   NaN   \n",
       "1959-01-03                                             30  32.0  35.0   NaN   \n",
       "1959-01-04                                             31  30.0  32.0  35.0   \n",
       "1959-01-05                                             44  31.0  30.0  32.0   \n",
       "\n",
       "                  MA3    MA4   MA5  \n",
       "Date                                \n",
       "1959-01-01        NaN    NaN   NaN  \n",
       "1959-01-02        NaN    NaN   NaN  \n",
       "1959-01-03  32.333333    NaN   NaN  \n",
       "1959-01-04  31.000000  32.00   NaN  \n",
       "1959-01-05  35.000000  34.25  34.4  "
      ]
     },
     "execution_count": 222,
     "metadata": {},
     "output_type": "execute_result"
    }
   ],
   "source": [
    "f_birth.head()"
   ]
  },
  {
   "cell_type": "code",
   "execution_count": 223,
   "id": "aaa902c9",
   "metadata": {},
   "outputs": [],
   "source": [
    "f_birth['Max_5'] = f_birth['Daily total female births in California, 1959'].rolling(window=5).max()"
   ]
  },
  {
   "cell_type": "code",
   "execution_count": 224,
   "id": "71a9eeda",
   "metadata": {},
   "outputs": [
    {
     "data": {
      "text/html": [
       "<div>\n",
       "<style scoped>\n",
       "    .dataframe tbody tr th:only-of-type {\n",
       "        vertical-align: middle;\n",
       "    }\n",
       "\n",
       "    .dataframe tbody tr th {\n",
       "        vertical-align: top;\n",
       "    }\n",
       "\n",
       "    .dataframe thead th {\n",
       "        text-align: right;\n",
       "    }\n",
       "</style>\n",
       "<table border=\"1\" class=\"dataframe\">\n",
       "  <thead>\n",
       "    <tr style=\"text-align: right;\">\n",
       "      <th></th>\n",
       "      <th>Daily total female births in California, 1959</th>\n",
       "      <th>lag1</th>\n",
       "      <th>lag2</th>\n",
       "      <th>lag3</th>\n",
       "      <th>MA3</th>\n",
       "      <th>MA4</th>\n",
       "      <th>MA5</th>\n",
       "      <th>Max_5</th>\n",
       "    </tr>\n",
       "    <tr>\n",
       "      <th>Date</th>\n",
       "      <th></th>\n",
       "      <th></th>\n",
       "      <th></th>\n",
       "      <th></th>\n",
       "      <th></th>\n",
       "      <th></th>\n",
       "      <th></th>\n",
       "      <th></th>\n",
       "    </tr>\n",
       "  </thead>\n",
       "  <tbody>\n",
       "    <tr>\n",
       "      <th>1959-01-01</th>\n",
       "      <td>35</td>\n",
       "      <td>NaN</td>\n",
       "      <td>NaN</td>\n",
       "      <td>NaN</td>\n",
       "      <td>NaN</td>\n",
       "      <td>NaN</td>\n",
       "      <td>NaN</td>\n",
       "      <td>NaN</td>\n",
       "    </tr>\n",
       "    <tr>\n",
       "      <th>1959-01-02</th>\n",
       "      <td>32</td>\n",
       "      <td>35.0</td>\n",
       "      <td>NaN</td>\n",
       "      <td>NaN</td>\n",
       "      <td>NaN</td>\n",
       "      <td>NaN</td>\n",
       "      <td>NaN</td>\n",
       "      <td>NaN</td>\n",
       "    </tr>\n",
       "    <tr>\n",
       "      <th>1959-01-03</th>\n",
       "      <td>30</td>\n",
       "      <td>32.0</td>\n",
       "      <td>35.0</td>\n",
       "      <td>NaN</td>\n",
       "      <td>32.333333</td>\n",
       "      <td>NaN</td>\n",
       "      <td>NaN</td>\n",
       "      <td>NaN</td>\n",
       "    </tr>\n",
       "    <tr>\n",
       "      <th>1959-01-04</th>\n",
       "      <td>31</td>\n",
       "      <td>30.0</td>\n",
       "      <td>32.0</td>\n",
       "      <td>35.0</td>\n",
       "      <td>31.000000</td>\n",
       "      <td>32.00</td>\n",
       "      <td>NaN</td>\n",
       "      <td>NaN</td>\n",
       "    </tr>\n",
       "    <tr>\n",
       "      <th>1959-01-05</th>\n",
       "      <td>44</td>\n",
       "      <td>31.0</td>\n",
       "      <td>30.0</td>\n",
       "      <td>32.0</td>\n",
       "      <td>35.000000</td>\n",
       "      <td>34.25</td>\n",
       "      <td>34.4</td>\n",
       "      <td>44.0</td>\n",
       "    </tr>\n",
       "  </tbody>\n",
       "</table>\n",
       "</div>"
      ],
      "text/plain": [
       "            Daily total female births in California, 1959  lag1  lag2  lag3  \\\n",
       "Date                                                                          \n",
       "1959-01-01                                             35   NaN   NaN   NaN   \n",
       "1959-01-02                                             32  35.0   NaN   NaN   \n",
       "1959-01-03                                             30  32.0  35.0   NaN   \n",
       "1959-01-04                                             31  30.0  32.0  35.0   \n",
       "1959-01-05                                             44  31.0  30.0  32.0   \n",
       "\n",
       "                  MA3    MA4   MA5  Max_5  \n",
       "Date                                       \n",
       "1959-01-01        NaN    NaN   NaN    NaN  \n",
       "1959-01-02        NaN    NaN   NaN    NaN  \n",
       "1959-01-03  32.333333    NaN   NaN    NaN  \n",
       "1959-01-04  31.000000  32.00   NaN    NaN  \n",
       "1959-01-05  35.000000  34.25  34.4   44.0  "
      ]
     },
     "execution_count": 224,
     "metadata": {},
     "output_type": "execute_result"
    }
   ],
   "source": [
    "f_birth.head()"
   ]
  },
  {
   "cell_type": "code",
   "execution_count": 225,
   "id": "2aa74d11",
   "metadata": {},
   "outputs": [],
   "source": [
    "f_birth['Min_5'] = f_birth['Daily total female births in California, 1959'].rolling(window=5).min()"
   ]
  },
  {
   "cell_type": "code",
   "execution_count": 227,
   "id": "e64fde8e",
   "metadata": {},
   "outputs": [
    {
     "data": {
      "text/html": [
       "<div>\n",
       "<style scoped>\n",
       "    .dataframe tbody tr th:only-of-type {\n",
       "        vertical-align: middle;\n",
       "    }\n",
       "\n",
       "    .dataframe tbody tr th {\n",
       "        vertical-align: top;\n",
       "    }\n",
       "\n",
       "    .dataframe thead th {\n",
       "        text-align: right;\n",
       "    }\n",
       "</style>\n",
       "<table border=\"1\" class=\"dataframe\">\n",
       "  <thead>\n",
       "    <tr style=\"text-align: right;\">\n",
       "      <th></th>\n",
       "      <th>Daily total female births in California, 1959</th>\n",
       "      <th>lag1</th>\n",
       "      <th>lag2</th>\n",
       "      <th>lag3</th>\n",
       "      <th>MA3</th>\n",
       "      <th>MA4</th>\n",
       "      <th>MA5</th>\n",
       "      <th>Max_5</th>\n",
       "      <th>Min_5</th>\n",
       "    </tr>\n",
       "    <tr>\n",
       "      <th>Date</th>\n",
       "      <th></th>\n",
       "      <th></th>\n",
       "      <th></th>\n",
       "      <th></th>\n",
       "      <th></th>\n",
       "      <th></th>\n",
       "      <th></th>\n",
       "      <th></th>\n",
       "      <th></th>\n",
       "    </tr>\n",
       "  </thead>\n",
       "  <tbody>\n",
       "    <tr>\n",
       "      <th>1959-01-01</th>\n",
       "      <td>35</td>\n",
       "      <td>NaN</td>\n",
       "      <td>NaN</td>\n",
       "      <td>NaN</td>\n",
       "      <td>NaN</td>\n",
       "      <td>NaN</td>\n",
       "      <td>NaN</td>\n",
       "      <td>NaN</td>\n",
       "      <td>NaN</td>\n",
       "    </tr>\n",
       "    <tr>\n",
       "      <th>1959-01-02</th>\n",
       "      <td>32</td>\n",
       "      <td>35.0</td>\n",
       "      <td>NaN</td>\n",
       "      <td>NaN</td>\n",
       "      <td>NaN</td>\n",
       "      <td>NaN</td>\n",
       "      <td>NaN</td>\n",
       "      <td>NaN</td>\n",
       "      <td>NaN</td>\n",
       "    </tr>\n",
       "    <tr>\n",
       "      <th>1959-01-03</th>\n",
       "      <td>30</td>\n",
       "      <td>32.0</td>\n",
       "      <td>35.0</td>\n",
       "      <td>NaN</td>\n",
       "      <td>32.333333</td>\n",
       "      <td>NaN</td>\n",
       "      <td>NaN</td>\n",
       "      <td>NaN</td>\n",
       "      <td>NaN</td>\n",
       "    </tr>\n",
       "    <tr>\n",
       "      <th>1959-01-04</th>\n",
       "      <td>31</td>\n",
       "      <td>30.0</td>\n",
       "      <td>32.0</td>\n",
       "      <td>35.0</td>\n",
       "      <td>31.000000</td>\n",
       "      <td>32.00</td>\n",
       "      <td>NaN</td>\n",
       "      <td>NaN</td>\n",
       "      <td>NaN</td>\n",
       "    </tr>\n",
       "    <tr>\n",
       "      <th>1959-01-05</th>\n",
       "      <td>44</td>\n",
       "      <td>31.0</td>\n",
       "      <td>30.0</td>\n",
       "      <td>32.0</td>\n",
       "      <td>35.000000</td>\n",
       "      <td>34.25</td>\n",
       "      <td>34.4</td>\n",
       "      <td>44.0</td>\n",
       "      <td>30.0</td>\n",
       "    </tr>\n",
       "  </tbody>\n",
       "</table>\n",
       "</div>"
      ],
      "text/plain": [
       "            Daily total female births in California, 1959  lag1  lag2  lag3  \\\n",
       "Date                                                                          \n",
       "1959-01-01                                             35   NaN   NaN   NaN   \n",
       "1959-01-02                                             32  35.0   NaN   NaN   \n",
       "1959-01-03                                             30  32.0  35.0   NaN   \n",
       "1959-01-04                                             31  30.0  32.0  35.0   \n",
       "1959-01-05                                             44  31.0  30.0  32.0   \n",
       "\n",
       "                  MA3    MA4   MA5  Max_5  Min_5  \n",
       "Date                                              \n",
       "1959-01-01        NaN    NaN   NaN    NaN    NaN  \n",
       "1959-01-02        NaN    NaN   NaN    NaN    NaN  \n",
       "1959-01-03  32.333333    NaN   NaN    NaN    NaN  \n",
       "1959-01-04  31.000000  32.00   NaN    NaN    NaN  \n",
       "1959-01-05  35.000000  34.25  34.4   44.0   30.0  "
      ]
     },
     "execution_count": 227,
     "metadata": {},
     "output_type": "execute_result"
    }
   ],
   "source": [
    "f_birth.head()"
   ]
  },
  {
   "cell_type": "code",
   "execution_count": 228,
   "id": "0673f782",
   "metadata": {},
   "outputs": [],
   "source": [
    "f_birth['day'] = f_birth.index.day"
   ]
  },
  {
   "cell_type": "code",
   "execution_count": 229,
   "id": "bc2c7cad",
   "metadata": {},
   "outputs": [
    {
     "data": {
      "text/html": [
       "<div>\n",
       "<style scoped>\n",
       "    .dataframe tbody tr th:only-of-type {\n",
       "        vertical-align: middle;\n",
       "    }\n",
       "\n",
       "    .dataframe tbody tr th {\n",
       "        vertical-align: top;\n",
       "    }\n",
       "\n",
       "    .dataframe thead th {\n",
       "        text-align: right;\n",
       "    }\n",
       "</style>\n",
       "<table border=\"1\" class=\"dataframe\">\n",
       "  <thead>\n",
       "    <tr style=\"text-align: right;\">\n",
       "      <th></th>\n",
       "      <th>Daily total female births in California, 1959</th>\n",
       "      <th>lag1</th>\n",
       "      <th>lag2</th>\n",
       "      <th>lag3</th>\n",
       "      <th>MA3</th>\n",
       "      <th>MA4</th>\n",
       "      <th>MA5</th>\n",
       "      <th>Max_5</th>\n",
       "      <th>Min_5</th>\n",
       "      <th>day</th>\n",
       "    </tr>\n",
       "    <tr>\n",
       "      <th>Date</th>\n",
       "      <th></th>\n",
       "      <th></th>\n",
       "      <th></th>\n",
       "      <th></th>\n",
       "      <th></th>\n",
       "      <th></th>\n",
       "      <th></th>\n",
       "      <th></th>\n",
       "      <th></th>\n",
       "      <th></th>\n",
       "    </tr>\n",
       "  </thead>\n",
       "  <tbody>\n",
       "    <tr>\n",
       "      <th>1959-01-01</th>\n",
       "      <td>35</td>\n",
       "      <td>NaN</td>\n",
       "      <td>NaN</td>\n",
       "      <td>NaN</td>\n",
       "      <td>NaN</td>\n",
       "      <td>NaN</td>\n",
       "      <td>NaN</td>\n",
       "      <td>NaN</td>\n",
       "      <td>NaN</td>\n",
       "      <td>1</td>\n",
       "    </tr>\n",
       "    <tr>\n",
       "      <th>1959-01-02</th>\n",
       "      <td>32</td>\n",
       "      <td>35.0</td>\n",
       "      <td>NaN</td>\n",
       "      <td>NaN</td>\n",
       "      <td>NaN</td>\n",
       "      <td>NaN</td>\n",
       "      <td>NaN</td>\n",
       "      <td>NaN</td>\n",
       "      <td>NaN</td>\n",
       "      <td>2</td>\n",
       "    </tr>\n",
       "    <tr>\n",
       "      <th>1959-01-03</th>\n",
       "      <td>30</td>\n",
       "      <td>32.0</td>\n",
       "      <td>35.0</td>\n",
       "      <td>NaN</td>\n",
       "      <td>32.333333</td>\n",
       "      <td>NaN</td>\n",
       "      <td>NaN</td>\n",
       "      <td>NaN</td>\n",
       "      <td>NaN</td>\n",
       "      <td>3</td>\n",
       "    </tr>\n",
       "    <tr>\n",
       "      <th>1959-01-04</th>\n",
       "      <td>31</td>\n",
       "      <td>30.0</td>\n",
       "      <td>32.0</td>\n",
       "      <td>35.0</td>\n",
       "      <td>31.000000</td>\n",
       "      <td>32.00</td>\n",
       "      <td>NaN</td>\n",
       "      <td>NaN</td>\n",
       "      <td>NaN</td>\n",
       "      <td>4</td>\n",
       "    </tr>\n",
       "    <tr>\n",
       "      <th>1959-01-05</th>\n",
       "      <td>44</td>\n",
       "      <td>31.0</td>\n",
       "      <td>30.0</td>\n",
       "      <td>32.0</td>\n",
       "      <td>35.000000</td>\n",
       "      <td>34.25</td>\n",
       "      <td>34.4</td>\n",
       "      <td>44.0</td>\n",
       "      <td>30.0</td>\n",
       "      <td>5</td>\n",
       "    </tr>\n",
       "  </tbody>\n",
       "</table>\n",
       "</div>"
      ],
      "text/plain": [
       "            Daily total female births in California, 1959  lag1  lag2  lag3  \\\n",
       "Date                                                                          \n",
       "1959-01-01                                             35   NaN   NaN   NaN   \n",
       "1959-01-02                                             32  35.0   NaN   NaN   \n",
       "1959-01-03                                             30  32.0  35.0   NaN   \n",
       "1959-01-04                                             31  30.0  32.0  35.0   \n",
       "1959-01-05                                             44  31.0  30.0  32.0   \n",
       "\n",
       "                  MA3    MA4   MA5  Max_5  Min_5  day  \n",
       "Date                                                   \n",
       "1959-01-01        NaN    NaN   NaN    NaN    NaN    1  \n",
       "1959-01-02        NaN    NaN   NaN    NaN    NaN    2  \n",
       "1959-01-03  32.333333    NaN   NaN    NaN    NaN    3  \n",
       "1959-01-04  31.000000  32.00   NaN    NaN    NaN    4  \n",
       "1959-01-05  35.000000  34.25  34.4   44.0   30.0    5  "
      ]
     },
     "execution_count": 229,
     "metadata": {},
     "output_type": "execute_result"
    }
   ],
   "source": [
    "f_birth.head()"
   ]
  },
  {
   "cell_type": "markdown",
   "id": "1b84719d",
   "metadata": {},
   "source": [
    "## 4 - Stationary Time Series - Testing"
   ]
  },
  {
   "cell_type": "code",
   "execution_count": 230,
   "id": "27a80797",
   "metadata": {},
   "outputs": [],
   "source": [
    "import pandas as pd\n",
    "import matplotlib.pyplot as plt\n",
    "%matplotlib inline"
   ]
  },
  {
   "cell_type": "code",
   "execution_count": 243,
   "id": "a279abe8",
   "metadata": {},
   "outputs": [],
   "source": [
    "f_birth = pd.read_csv('daily-total-female-births-in-cal.csv',index_col=[0], parse_dates = [0], nrows=365)"
   ]
  },
  {
   "cell_type": "code",
   "execution_count": 250,
   "id": "d0931410",
   "metadata": {},
   "outputs": [],
   "source": [
    "f_birth = f_birth.iloc[:,0]"
   ]
  },
  {
   "cell_type": "code",
   "execution_count": 251,
   "id": "05e5b200",
   "metadata": {},
   "outputs": [
    {
     "data": {
      "text/plain": [
       "pandas.core.series.Series"
      ]
     },
     "execution_count": 251,
     "metadata": {},
     "output_type": "execute_result"
    }
   ],
   "source": [
    "type(f_birth)"
   ]
  },
  {
   "cell_type": "code",
   "execution_count": 232,
   "id": "ea269fe6",
   "metadata": {},
   "outputs": [
    {
     "data": {
      "text/html": [
       "<div>\n",
       "<style scoped>\n",
       "    .dataframe tbody tr th:only-of-type {\n",
       "        vertical-align: middle;\n",
       "    }\n",
       "\n",
       "    .dataframe tbody tr th {\n",
       "        vertical-align: top;\n",
       "    }\n",
       "\n",
       "    .dataframe thead th {\n",
       "        text-align: right;\n",
       "    }\n",
       "</style>\n",
       "<table border=\"1\" class=\"dataframe\">\n",
       "  <thead>\n",
       "    <tr style=\"text-align: right;\">\n",
       "      <th></th>\n",
       "      <th>Daily total female births in California, 1959</th>\n",
       "    </tr>\n",
       "    <tr>\n",
       "      <th>Date</th>\n",
       "      <th></th>\n",
       "    </tr>\n",
       "  </thead>\n",
       "  <tbody>\n",
       "    <tr>\n",
       "      <th>1959-12-27</th>\n",
       "      <td>37</td>\n",
       "    </tr>\n",
       "    <tr>\n",
       "      <th>1959-12-28</th>\n",
       "      <td>52</td>\n",
       "    </tr>\n",
       "    <tr>\n",
       "      <th>1959-12-29</th>\n",
       "      <td>48</td>\n",
       "    </tr>\n",
       "    <tr>\n",
       "      <th>1959-12-30</th>\n",
       "      <td>55</td>\n",
       "    </tr>\n",
       "    <tr>\n",
       "      <th>1959-12-31</th>\n",
       "      <td>50</td>\n",
       "    </tr>\n",
       "  </tbody>\n",
       "</table>\n",
       "</div>"
      ],
      "text/plain": [
       "            Daily total female births in California, 1959\n",
       "Date                                                     \n",
       "1959-12-27                                             37\n",
       "1959-12-28                                             52\n",
       "1959-12-29                                             48\n",
       "1959-12-30                                             55\n",
       "1959-12-31                                             50"
      ]
     },
     "execution_count": 232,
     "metadata": {},
     "output_type": "execute_result"
    }
   ],
   "source": [
    "f_birth.tail()"
   ]
  },
  {
   "cell_type": "code",
   "execution_count": 233,
   "id": "11746e40",
   "metadata": {},
   "outputs": [
    {
     "data": {
      "text/plain": [
       "<Axes: xlabel='Date'>"
      ]
     },
     "execution_count": 233,
     "metadata": {},
     "output_type": "execute_result"
    },
    {
     "data": {
      "image/png": "[encoded data removed]",
      "text/plain": [
       "<Figure size 640x480 with 1 Axes>"
      ]
     },
     "metadata": {},
     "output_type": "display_data"
    }
   ],
   "source": [
    "f_birth.plot()"
   ]
  },
  {
   "cell_type": "code",
   "execution_count": 234,
   "id": "aa7a9593",
   "metadata": {},
   "outputs": [
    {
     "data": {
      "text/plain": [
       "array([[<Axes: title={'center': 'Daily total female births in California, 1959'}>]],\n",
       "      dtype=object)"
      ]
     },
     "execution_count": 234,
     "metadata": {},
     "output_type": "execute_result"
    },
    {
     "data": {
      "image/png": "[encoded data removed]",
      "text/plain": [
       "<Figure size 640x480 with 1 Axes>"
      ]
     },
     "metadata": {},
     "output_type": "display_data"
    }
   ],
   "source": [
    "f_birth.hist()"
   ]
  },
  {
   "cell_type": "code",
   "execution_count": 235,
   "id": "e2f1b0a1",
   "metadata": {},
   "outputs": [],
   "source": [
    "f_birth_1 = f_birth[0:201]\n",
    "f_birth_2 = f_birth[201:365]"
   ]
  },
  {
   "cell_type": "code",
   "execution_count": 236,
   "id": "f890e5b9",
   "metadata": {},
   "outputs": [
    {
     "data": {
      "text/html": [
       "<div>\n",
       "<style scoped>\n",
       "    .dataframe tbody tr th:only-of-type {\n",
       "        vertical-align: middle;\n",
       "    }\n",
       "\n",
       "    .dataframe tbody tr th {\n",
       "        vertical-align: top;\n",
       "    }\n",
       "\n",
       "    .dataframe thead th {\n",
       "        text-align: right;\n",
       "    }\n",
       "</style>\n",
       "<table border=\"1\" class=\"dataframe\">\n",
       "  <thead>\n",
       "    <tr style=\"text-align: right;\">\n",
       "      <th></th>\n",
       "      <th>Daily total female births in California, 1959</th>\n",
       "    </tr>\n",
       "    <tr>\n",
       "      <th>Date</th>\n",
       "      <th></th>\n",
       "    </tr>\n",
       "  </thead>\n",
       "  <tbody>\n",
       "    <tr>\n",
       "      <th>1959-12-27</th>\n",
       "      <td>37</td>\n",
       "    </tr>\n",
       "    <tr>\n",
       "      <th>1959-12-28</th>\n",
       "      <td>52</td>\n",
       "    </tr>\n",
       "    <tr>\n",
       "      <th>1959-12-29</th>\n",
       "      <td>48</td>\n",
       "    </tr>\n",
       "    <tr>\n",
       "      <th>1959-12-30</th>\n",
       "      <td>55</td>\n",
       "    </tr>\n",
       "    <tr>\n",
       "      <th>1959-12-31</th>\n",
       "      <td>50</td>\n",
       "    </tr>\n",
       "  </tbody>\n",
       "</table>\n",
       "</div>"
      ],
      "text/plain": [
       "            Daily total female births in California, 1959\n",
       "Date                                                     \n",
       "1959-12-27                                             37\n",
       "1959-12-28                                             52\n",
       "1959-12-29                                             48\n",
       "1959-12-30                                             55\n",
       "1959-12-31                                             50"
      ]
     },
     "execution_count": 236,
     "metadata": {},
     "output_type": "execute_result"
    }
   ],
   "source": [
    "f_birth_2.tail()"
   ]
  },
  {
   "cell_type": "code",
   "execution_count": 237,
   "id": "7748240a",
   "metadata": {},
   "outputs": [
    {
     "data": {
      "text/plain": [
       "Daily total female births in California, 1959    40.024876\n",
       "dtype: float64"
      ]
     },
     "execution_count": 237,
     "metadata": {},
     "output_type": "execute_result"
    }
   ],
   "source": [
    "f_birth_1.mean()"
   ]
  },
  {
   "cell_type": "code",
   "execution_count": 238,
   "id": "1e1cedd0",
   "metadata": {},
   "outputs": [
    {
     "data": {
      "text/plain": [
       "Daily total female births in California, 1959    44.378049\n",
       "dtype: float64"
      ]
     },
     "execution_count": 238,
     "metadata": {},
     "output_type": "execute_result"
    }
   ],
   "source": [
    "f_birth_2.mean()"
   ]
  },
  {
   "cell_type": "code",
   "execution_count": 239,
   "id": "b62f8a82",
   "metadata": {},
   "outputs": [
    {
     "data": {
      "text/plain": [
       "Daily total female births in California, 1959    49.314378\n",
       "dtype: float64"
      ]
     },
     "execution_count": 239,
     "metadata": {},
     "output_type": "execute_result"
    }
   ],
   "source": [
    "f_birth_1.var()"
   ]
  },
  {
   "cell_type": "code",
   "execution_count": 240,
   "id": "5a5b921f",
   "metadata": {},
   "outputs": [
    {
     "data": {
      "text/plain": [
       "Daily total female births in California, 1959    49.573994\n",
       "dtype: float64"
      ]
     },
     "execution_count": 240,
     "metadata": {},
     "output_type": "execute_result"
    }
   ],
   "source": [
    "f_birth_2.var()"
   ]
  },
  {
   "cell_type": "code",
   "execution_count": 241,
   "id": "46f506c5",
   "metadata": {},
   "outputs": [],
   "source": [
    "from statsmodels.tsa.stattools import adfuller"
   ]
  },
  {
   "cell_type": "code",
   "execution_count": 252,
   "id": "cbc4baf7",
   "metadata": {},
   "outputs": [],
   "source": [
    "adf_test = adfuller(f_birth)"
   ]
  },
  {
   "cell_type": "code",
   "execution_count": 253,
   "id": "cfb1b822",
   "metadata": {},
   "outputs": [
    {
     "data": {
      "text/plain": [
       "-4.808291253559766"
      ]
     },
     "execution_count": 253,
     "metadata": {},
     "output_type": "execute_result"
    }
   ],
   "source": [
    "adf_test[0]"
   ]
  },
  {
   "cell_type": "code",
   "execution_count": 254,
   "id": "d270d045",
   "metadata": {},
   "outputs": [
    {
     "data": {
      "text/plain": [
       "5.243412990149813e-05"
      ]
     },
     "execution_count": 254,
     "metadata": {},
     "output_type": "execute_result"
    }
   ],
   "source": [
    "adf_test[1]"
   ]
  },
  {
   "cell_type": "code",
   "execution_count": 257,
   "id": "f3705696",
   "metadata": {},
   "outputs": [],
   "source": [
    "# Automation of Testing\n",
    "def adf_test(dataset):\n",
    "    import pandas as pd\n",
    "    import matplotlib.pyplot as plt\n",
    "    %matplotlib inline\n",
    "    \n",
    "    ds = pd.read_csv(dataset,index_col=[0],parse_dates=[0],nrows=365)\n",
    "    ds = ds.iloc[:,0]\n",
    "    print(ds.hist())\n",
    "    ds_split = int(len(ds)/2) \n",
    "    ds1 = ds[0:ds_split]\n",
    "    ds2 = ds[ds_split:]\n",
    "    print(\"Mean 1 - \",ds1.mean())\n",
    "    print(\"Mean 2 - \",ds2.mean())\n",
    "    print(\"Var 1 - \",ds1.var())\n",
    "    print(\"Var 2 - \",ds2.var())\n",
    "    from statsmodels.tsa.stattools import adfuller\n",
    "    adf_test = adfuller(ds)\n",
    "    print(\"ADfuller Statistics - \",adf_test[0])\n",
    "    print(\"P value - \",adf_test[1])"
   ]
  },
  {
   "cell_type": "code",
   "execution_count": 258,
   "id": "a4a002c5",
   "metadata": {
    "scrolled": false
   },
   "outputs": [
    {
     "name": "stdout",
     "output_type": "stream",
     "text": [
      "Axes(0.125,0.11;0.775x0.77)\n",
      "Mean 1 -  39.76373626373626\n",
      "Mean 2 -  44.185792349726775\n",
      "Var 1 -  49.48530751016939\n",
      "Var 2 -  48.97628055005103\n",
      "ADfuller Statistics -  -4.808291253559766\n",
      "P value -  5.243412990149813e-05\n"
     ]
    },
    {
     "data": {
      "image/png": "[encoded data removed]",
      "text/plain": [
       "<Figure size 640x480 with 1 Axes>"
      ]
     },
     "metadata": {},
     "output_type": "display_data"
    }
   ],
   "source": [
    "adf_test('daily-total-female-births-in-cal.csv')"
   ]
  },
  {
   "cell_type": "code",
   "execution_count": null,
   "id": "37119fe6",
   "metadata": {},
   "outputs": [],
   "source": []
  }
 ],
 "metadata": {
  "kernelspec": {
   "display_name": "Python 3 (ipykernel)",
   "language": "python",
   "name": "python3"
  },
  "language_info": {
   "codemirror_mode": {
    "name": "ipython",
    "version": 3
   },
   "file_extension": ".py",
   "mimetype": "text/x-python",
   "name": "python",
   "nbconvert_exporter": "python",
   "pygments_lexer": "ipython3",
   "version": "3.11.5"
  }
 },
 "nbformat": 4,
 "nbformat_minor": 5
}
